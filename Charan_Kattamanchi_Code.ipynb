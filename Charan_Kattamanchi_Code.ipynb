{
 "cells": [
  {
   "cell_type": "markdown",
   "id": "429630ca",
   "metadata": {},
   "source": [
    "## Name    : Charan Kattamanchi \n",
    "## Unid      : U1385123\n",
    "## Subject : Capstone Project\n",
    "## Project  : Predicting Customer Success -- Swire Coca Cola"
   ]
  },
  {
   "cell_type": "code",
   "execution_count": 1,
   "id": "d498ffeb",
   "metadata": {},
   "outputs": [],
   "source": [
    "## Contents\n",
    "### 1. Business Problem Statement\n",
    "### 2. Exploratory Data Analysis\n",
    "### 3. Modelling"
   ]
  },
  {
   "cell_type": "markdown",
   "id": "6d5ceff4",
   "metadata": {},
   "source": [
    "# 1. Business Problem Statement"
   ]
  },
  {
   "cell_type": "markdown",
   "id": "5c698fea",
   "metadata": {},
   "source": [
    ">Approximately, Swire Coca-Cola’s 10% of the business is 'Business2Business'.Predicting thesuccess/profitability/sales of a new restaurants in the market will improve to make informed decisions about pricing and funding for these businesses.Swire Coca-Cola needs to improve their ability to predict the popularity, longevity, and total 3-year sales volume of new restaurant customers in order to achieve this. With this company can make more effective decisions about pricing and funding for these businesses which results in a greater return on investment for the company, and also it creates more loyal and valuable customers.\n",
    "\n",
    ">The analytics approach to solve the problem involve the use of historical data to train the model and to make \n",
    "predictions about the new customers.The dashboard will be designed to provide an easy-to-use interface for stakeholders to access the predictions and explore the insights.The scope of the project will include the development\n",
    "of a machine learning model to predict popularity, longevity, and total 3-year sales volume of new restaurantcustomers\n",
    "and a dashboard to provide insights and visualization of the predictions.\n",
    "\n",
    ">Stakeholders will judge the success of the project based on the accuracy of the predictions and the effectiveness of \n",
    "the dashboard in providing insights and visualization of the predictions. Specifically, the overall performance of the\n",
    "solution in terms of its ability to predict popularity, longevity, and total 3-year sales volume.\n",
    "\n",
    ">The project will be executed by a team of four data analysts within the MSBA department. The project will becompleted by April 10, with important milestones , including Exploratory Data Analysis by February 19th, model development by March 19th,  and final deliverables by April 2nd."
   ]
  },
  {
   "cell_type": "markdown",
   "id": "61287906",
   "metadata": {},
   "source": [
    "# 2. Exploratory Data Analysis"
   ]
  },
  {
   "cell_type": "markdown",
   "id": "af511e2a",
   "metadata": {},
   "source": [
    "## Libraries and output Setup"
   ]
  },
  {
   "cell_type": "code",
   "execution_count": 2,
   "id": "8b58675f",
   "metadata": {},
   "outputs": [],
   "source": [
    "import pandas as pd\n",
    "import numpy as np\n",
    "import seaborn as sns\n",
    "import matplotlib.pyplot as plt\n",
    "from datetime import datetime, timedelta, date\n",
    "import xlrd"
   ]
  },
  {
   "cell_type": "code",
   "execution_count": 3,
   "id": "8e647835",
   "metadata": {},
   "outputs": [],
   "source": [
    "pd.set_option('display.max_rows', 10)\n",
    "pd.set_option('display.max_columns', None)"
   ]
  },
  {
   "cell_type": "code",
   "execution_count": 4,
   "id": "bfd59d41",
   "metadata": {},
   "outputs": [],
   "source": [
    "sns.set(rc={'figure.figsize':(11,8)})\n",
    "sns.set(font_scale = 1)"
   ]
  },
  {
   "cell_type": "code",
   "execution_count": 5,
   "id": "561182c9",
   "metadata": {},
   "outputs": [
    {
     "name": "stdout",
     "output_type": "stream",
     "text": [
      "Requirement already satisfied: pyxlsb in /Users/charankattamanchi/opt/anaconda3/lib/python3.9/site-packages (1.0.10)\r\n"
     ]
    }
   ],
   "source": [
    "!pip install pyxlsb"
   ]
  },
  {
   "cell_type": "markdown",
   "id": "36538257",
   "metadata": {},
   "source": [
    "## Loading & Understanding  Data"
   ]
  },
  {
   "cell_type": "code",
   "execution_count": 6,
   "id": "8ba31538",
   "metadata": {},
   "outputs": [],
   "source": [
    "#Loading data\n",
    "cust_df = pd.read_excel(\"/Users/charankattamanchi/Desktop/Capstonecompletion/FSOP_Customer_Data_v2.0.xlsb\",engine='pyxlsb')\n",
    "sales_df = pd.read_excel(\"/Users/charankattamanchi/Desktop/Capstonecompletion/FSOP_Sales_Data_v2.0.xlsb\",engine='pyxlsb')"
   ]
  },
  {
   "cell_type": "code",
   "execution_count": 7,
   "id": "6ba9e0b9",
   "metadata": {},
   "outputs": [
    {
     "data": {
      "text/plain": [
       "(40386, 16)"
      ]
     },
     "execution_count": 7,
     "metadata": {},
     "output_type": "execute_result"
    }
   ],
   "source": [
    "cust_df.shape"
   ]
  },
  {
   "cell_type": "code",
   "execution_count": 8,
   "id": "432c3957",
   "metadata": {},
   "outputs": [
    {
     "data": {
      "text/plain": [
       "Index(['CUSTOMER_NUMBER_BLINDED', 'SALES_OFFICE_DESCRIPTION',\n",
       "       'DELIVERY_PLANT_DESCRIPTION', 'ON_BOARDING_DATE', 'ADDRESS_CITY',\n",
       "       'ADDRESS_ZIP_CODE', 'COUNTY', 'GEO_LONGITUDE', 'GEO_LATITUDE',\n",
       "       'CUSTOMER_ACTIVITY_CLUSTER_DESCRIPTION',\n",
       "       'CUSTOMER_TRADE_CHANNEL_DESCRIPTION',\n",
       "       'CUSTOMER_SUB_TRADE_CHANNEL_DESCRIPTION',\n",
       "       'BUSINESS_TYPE_EXTENSION_DESCRIPTION',\n",
       "       'CUSTOMER_TRADE_CHANNEL_DESCRIPTION2', 'MARKET_DESCRIPTION',\n",
       "       'COLD_DRINK_CHANNEL_DESCRIPTION'],\n",
       "      dtype='object')"
      ]
     },
     "execution_count": 8,
     "metadata": {},
     "output_type": "execute_result"
    }
   ],
   "source": [
    "cust_df.columns"
   ]
  },
  {
   "cell_type": "code",
   "execution_count": 9,
   "id": "212fdcbf",
   "metadata": {},
   "outputs": [
    {
     "data": {
      "text/plain": [
       "CUSTOMER_NUMBER_BLINDED                   object\n",
       "SALES_OFFICE_DESCRIPTION                  object\n",
       "DELIVERY_PLANT_DESCRIPTION                object\n",
       "ON_BOARDING_DATE                           int64\n",
       "ADDRESS_CITY                              object\n",
       "                                           ...  \n",
       "CUSTOMER_SUB_TRADE_CHANNEL_DESCRIPTION    object\n",
       "BUSINESS_TYPE_EXTENSION_DESCRIPTION       object\n",
       "CUSTOMER_TRADE_CHANNEL_DESCRIPTION2       object\n",
       "MARKET_DESCRIPTION                        object\n",
       "COLD_DRINK_CHANNEL_DESCRIPTION            object\n",
       "Length: 16, dtype: object"
      ]
     },
     "execution_count": 9,
     "metadata": {},
     "output_type": "execute_result"
    }
   ],
   "source": [
    "cust_df.dtypes"
   ]
  },
  {
   "cell_type": "code",
   "execution_count": 10,
   "id": "5630299b",
   "metadata": {},
   "outputs": [
    {
     "data": {
      "text/html": [
       "<div>\n",
       "<style scoped>\n",
       "    .dataframe tbody tr th:only-of-type {\n",
       "        vertical-align: middle;\n",
       "    }\n",
       "\n",
       "    .dataframe tbody tr th {\n",
       "        vertical-align: top;\n",
       "    }\n",
       "\n",
       "    .dataframe thead th {\n",
       "        text-align: right;\n",
       "    }\n",
       "</style>\n",
       "<table border=\"1\" class=\"dataframe\">\n",
       "  <thead>\n",
       "    <tr style=\"text-align: right;\">\n",
       "      <th></th>\n",
       "      <th>CUSTOMER_NUMBER_BLINDED</th>\n",
       "      <th>SALES_OFFICE_DESCRIPTION</th>\n",
       "      <th>DELIVERY_PLANT_DESCRIPTION</th>\n",
       "      <th>ON_BOARDING_DATE</th>\n",
       "      <th>ADDRESS_CITY</th>\n",
       "      <th>ADDRESS_ZIP_CODE</th>\n",
       "      <th>COUNTY</th>\n",
       "      <th>GEO_LONGITUDE</th>\n",
       "      <th>GEO_LATITUDE</th>\n",
       "      <th>CUSTOMER_ACTIVITY_CLUSTER_DESCRIPTION</th>\n",
       "      <th>CUSTOMER_TRADE_CHANNEL_DESCRIPTION</th>\n",
       "      <th>CUSTOMER_SUB_TRADE_CHANNEL_DESCRIPTION</th>\n",
       "      <th>BUSINESS_TYPE_EXTENSION_DESCRIPTION</th>\n",
       "      <th>CUSTOMER_TRADE_CHANNEL_DESCRIPTION2</th>\n",
       "      <th>MARKET_DESCRIPTION</th>\n",
       "      <th>COLD_DRINK_CHANNEL_DESCRIPTION</th>\n",
       "    </tr>\n",
       "  </thead>\n",
       "  <tbody>\n",
       "    <tr>\n",
       "      <th>0</th>\n",
       "      <td>C0895044502170683</td>\n",
       "      <td>Tucson, AZ</td>\n",
       "      <td>Tucson, AZ</td>\n",
       "      <td>42772</td>\n",
       "      <td>TUCSON</td>\n",
       "      <td>85756-6948</td>\n",
       "      <td>PIMA</td>\n",
       "      <td>-110.928378</td>\n",
       "      <td>32.115937</td>\n",
       "      <td>Other Shopping &amp; Ser</td>\n",
       "      <td>General Merchandiser</td>\n",
       "      <td>Other General Mercha</td>\n",
       "      <td>DSD</td>\n",
       "      <td>General Merchandiser</td>\n",
       "      <td>FSOP</td>\n",
       "      <td>RETAIL</td>\n",
       "    </tr>\n",
       "    <tr>\n",
       "      <th>1</th>\n",
       "      <td>C0409008701210025</td>\n",
       "      <td>Tacoma, WA</td>\n",
       "      <td>Tacoma Sales Center, WA</td>\n",
       "      <td>39944</td>\n",
       "      <td>FORT LEWIS</td>\n",
       "      <td>98433</td>\n",
       "      <td>PIERCE</td>\n",
       "      <td>-122.587244</td>\n",
       "      <td>47.102365</td>\n",
       "      <td>Eating &amp; Drinking</td>\n",
       "      <td>Quick Service Restau</td>\n",
       "      <td>QSR-Pizza</td>\n",
       "      <td>DSD</td>\n",
       "      <td>Quick Service Restau</td>\n",
       "      <td>FSOP</td>\n",
       "      <td>EATING/DRINKING</td>\n",
       "    </tr>\n",
       "    <tr>\n",
       "      <th>2</th>\n",
       "      <td>C0278065006510168</td>\n",
       "      <td>Walla Walla, WA</td>\n",
       "      <td>Walla Walla, WA</td>\n",
       "      <td>38035</td>\n",
       "      <td>COLLEGE PLACE</td>\n",
       "      <td>99324-9730</td>\n",
       "      <td>WALLA WALLA</td>\n",
       "      <td>-118.373040</td>\n",
       "      <td>46.052920</td>\n",
       "      <td>Other Shopping &amp; Ser</td>\n",
       "      <td>General Merchandiser</td>\n",
       "      <td>Hardware/Home-Improv</td>\n",
       "      <td>DSD</td>\n",
       "      <td>General Merchandiser</td>\n",
       "      <td>FSOP</td>\n",
       "      <td>RETAIL</td>\n",
       "    </tr>\n",
       "    <tr>\n",
       "      <th>3</th>\n",
       "      <td>C0559043803480412</td>\n",
       "      <td>Prescott, AZ</td>\n",
       "      <td>Glendale, AZ</td>\n",
       "      <td>34215</td>\n",
       "      <td>PRESCOTT</td>\n",
       "      <td>86301-3313</td>\n",
       "      <td>YAVAPAI</td>\n",
       "      <td>-112.450490</td>\n",
       "      <td>34.545020</td>\n",
       "      <td>Travel/Transportatio</td>\n",
       "      <td>Lodging</td>\n",
       "      <td>Other Lodging</td>\n",
       "      <td>DSD</td>\n",
       "      <td>Lodging</td>\n",
       "      <td>FSOP</td>\n",
       "      <td>LODGING</td>\n",
       "    </tr>\n",
       "    <tr>\n",
       "      <th>4</th>\n",
       "      <td>C0729091103720749</td>\n",
       "      <td>Reno, NV</td>\n",
       "      <td>Reno, NV</td>\n",
       "      <td>41990</td>\n",
       "      <td>SOUTH LAKE TAHOE</td>\n",
       "      <td>96150-7702</td>\n",
       "      <td>EL DORADO</td>\n",
       "      <td>-119.984227</td>\n",
       "      <td>38.926637</td>\n",
       "      <td>Other Shopping &amp; Ser</td>\n",
       "      <td>Automotive Services</td>\n",
       "      <td>Other Automotive Ser</td>\n",
       "      <td>DSD</td>\n",
       "      <td>Automotive Services</td>\n",
       "      <td>FSOP</td>\n",
       "      <td>RETAIL</td>\n",
       "    </tr>\n",
       "  </tbody>\n",
       "</table>\n",
       "</div>"
      ],
      "text/plain": [
       "  CUSTOMER_NUMBER_BLINDED SALES_OFFICE_DESCRIPTION DELIVERY_PLANT_DESCRIPTION  \\\n",
       "0       C0895044502170683               Tucson, AZ                 Tucson, AZ   \n",
       "1       C0409008701210025               Tacoma, WA    Tacoma Sales Center, WA   \n",
       "2       C0278065006510168          Walla Walla, WA            Walla Walla, WA   \n",
       "3       C0559043803480412             Prescott, AZ               Glendale, AZ   \n",
       "4       C0729091103720749                 Reno, NV                   Reno, NV   \n",
       "\n",
       "   ON_BOARDING_DATE      ADDRESS_CITY ADDRESS_ZIP_CODE       COUNTY  \\\n",
       "0             42772            TUCSON       85756-6948         PIMA   \n",
       "1             39944        FORT LEWIS            98433       PIERCE   \n",
       "2             38035     COLLEGE PLACE       99324-9730  WALLA WALLA   \n",
       "3             34215          PRESCOTT       86301-3313      YAVAPAI   \n",
       "4             41990  SOUTH LAKE TAHOE       96150-7702    EL DORADO   \n",
       "\n",
       "   GEO_LONGITUDE  GEO_LATITUDE CUSTOMER_ACTIVITY_CLUSTER_DESCRIPTION  \\\n",
       "0    -110.928378     32.115937                  Other Shopping & Ser   \n",
       "1    -122.587244     47.102365                     Eating & Drinking   \n",
       "2    -118.373040     46.052920                  Other Shopping & Ser   \n",
       "3    -112.450490     34.545020                  Travel/Transportatio   \n",
       "4    -119.984227     38.926637                  Other Shopping & Ser   \n",
       "\n",
       "  CUSTOMER_TRADE_CHANNEL_DESCRIPTION CUSTOMER_SUB_TRADE_CHANNEL_DESCRIPTION  \\\n",
       "0               General Merchandiser                   Other General Mercha   \n",
       "1               Quick Service Restau                              QSR-Pizza   \n",
       "2               General Merchandiser                   Hardware/Home-Improv   \n",
       "3                            Lodging                          Other Lodging   \n",
       "4                Automotive Services                   Other Automotive Ser   \n",
       "\n",
       "  BUSINESS_TYPE_EXTENSION_DESCRIPTION CUSTOMER_TRADE_CHANNEL_DESCRIPTION2  \\\n",
       "0                                 DSD                General Merchandiser   \n",
       "1                                 DSD                Quick Service Restau   \n",
       "2                                 DSD                General Merchandiser   \n",
       "3                                 DSD                             Lodging   \n",
       "4                                 DSD                 Automotive Services   \n",
       "\n",
       "  MARKET_DESCRIPTION COLD_DRINK_CHANNEL_DESCRIPTION  \n",
       "0               FSOP                         RETAIL  \n",
       "1               FSOP                EATING/DRINKING  \n",
       "2               FSOP                         RETAIL  \n",
       "3               FSOP                        LODGING  \n",
       "4               FSOP                         RETAIL  "
      ]
     },
     "execution_count": 10,
     "metadata": {},
     "output_type": "execute_result"
    }
   ],
   "source": [
    "cust_df.head()"
   ]
  },
  {
   "cell_type": "code",
   "execution_count": 11,
   "id": "8ae0a387",
   "metadata": {
    "scrolled": true
   },
   "outputs": [
    {
     "data": {
      "text/plain": [
       "40386"
      ]
     },
     "execution_count": 11,
     "metadata": {},
     "output_type": "execute_result"
    }
   ],
   "source": [
    "cust_df['CUSTOMER_NUMBER_BLINDED'].nunique()"
   ]
  },
  {
   "cell_type": "code",
   "execution_count": 12,
   "id": "6378d7ff",
   "metadata": {
    "scrolled": true
   },
   "outputs": [
    {
     "data": {
      "text/plain": [
       "CUSTOMER_NUMBER_BLINDED                   0\n",
       "SALES_OFFICE_DESCRIPTION                  0\n",
       "DELIVERY_PLANT_DESCRIPTION                0\n",
       "ON_BOARDING_DATE                          0\n",
       "ADDRESS_CITY                              0\n",
       "                                         ..\n",
       "CUSTOMER_SUB_TRADE_CHANNEL_DESCRIPTION    0\n",
       "BUSINESS_TYPE_EXTENSION_DESCRIPTION       0\n",
       "CUSTOMER_TRADE_CHANNEL_DESCRIPTION2       0\n",
       "MARKET_DESCRIPTION                        0\n",
       "COLD_DRINK_CHANNEL_DESCRIPTION            0\n",
       "Length: 16, dtype: int64"
      ]
     },
     "execution_count": 12,
     "metadata": {},
     "output_type": "execute_result"
    }
   ],
   "source": [
    "cust_df.isnull().sum()"
   ]
  },
  {
   "cell_type": "markdown",
   "id": "863769bd",
   "metadata": {},
   "source": [
    ">There two county names which are blank. When i explored the sales data for this two it is neglisible. \n",
    "On top of it among 40k customers and 0.8 million rows in sales data it is ignored."
   ]
  },
  {
   "cell_type": "code",
   "execution_count": 13,
   "id": "2bfa2001",
   "metadata": {
    "scrolled": true
   },
   "outputs": [
    {
     "data": {
      "text/plain": [
       "CUSTOMER_NUMBER_BLINDED        0\n",
       "PRODUCT_SOLD_BLINDED           0\n",
       "BEV_CAT_DESC               73623\n",
       "CALORIE_CAT_DESC           73623\n",
       "PACK_TYPE_DESC                 0\n",
       "                           ...  \n",
       "GROSS_PROFIT_DEAD_NET          0\n",
       "COGS                           0\n",
       "MIN_POSTING_DATE               0\n",
       "MAX_POSTING_DATE               0\n",
       "NUM_OF_TRANSACTIONS            0\n",
       "Length: 15, dtype: int64"
      ]
     },
     "execution_count": 13,
     "metadata": {},
     "output_type": "execute_result"
    }
   ],
   "source": [
    "sales_df.isnull().sum()"
   ]
  },
  {
   "cell_type": "markdown",
   "id": "24718019",
   "metadata": {},
   "source": [
    ">Addressing NAs in the Sales_df Column: There are 73623 rows where both the cells are blank. Columns like Bev_cat_desc, Calotie_Cat_desc etc talks about product preference by customer.Our use case is not to find the purchasing patterns by product types which are liked by the customer.Apart from this when i digged deeply about these rows , majority of the rows speaks about paper cup with different sizes, Co2 tank etc.Hence ignoring the Nas and not exploring the Columns which are related to product type or category.\n"
   ]
  },
  {
   "cell_type": "markdown",
   "id": "2c4b63a7",
   "metadata": {},
   "source": [
    "## Understanding Customer business types"
   ]
  },
  {
   "cell_type": "code",
   "execution_count": 14,
   "id": "a1b9f360",
   "metadata": {},
   "outputs": [
    {
     "data": {
      "text/plain": [
       "8"
      ]
     },
     "execution_count": 14,
     "metadata": {},
     "output_type": "execute_result"
    }
   ],
   "source": [
    "cust_df['CUSTOMER_ACTIVITY_CLUSTER_DESCRIPTION'].nunique()"
   ]
  },
  {
   "cell_type": "code",
   "execution_count": 15,
   "id": "85ed36d4",
   "metadata": {
    "scrolled": true
   },
   "outputs": [
    {
     "data": {
      "text/plain": [
       "array(['Other Shopping & Ser', 'Eating & Drinking',\n",
       "       'Travel/Transportatio', 'Third Party (Non-Con',\n",
       "       'Entertainment/Recrea', 'Grocery Shopping', 'At-Work',\n",
       "       'Educational'], dtype=object)"
      ]
     },
     "execution_count": 15,
     "metadata": {},
     "output_type": "execute_result"
    }
   ],
   "source": [
    "cust_df['CUSTOMER_ACTIVITY_CLUSTER_DESCRIPTION'].unique()"
   ]
  },
  {
   "cell_type": "code",
   "execution_count": 16,
   "id": "8d825fbc",
   "metadata": {},
   "outputs": [
    {
     "data": {
      "text/plain": [
       "25"
      ]
     },
     "execution_count": 16,
     "metadata": {},
     "output_type": "execute_result"
    }
   ],
   "source": [
    "cust_df['CUSTOMER_TRADE_CHANNEL_DESCRIPTION'].nunique()"
   ]
  },
  {
   "cell_type": "code",
   "execution_count": 17,
   "id": "b5265bd0",
   "metadata": {},
   "outputs": [
    {
     "data": {
      "text/plain": [
       "array(['RETAIL', 'EATING/DRINKING', 'LODGING', 'WHOLESALE',\n",
       "       'DESTINATION VENUE', 'AT WORK', \"GOV'T/EDU\", 'HEALTH/HOSPITAL',\n",
       "       'NON COLD DRINK'], dtype=object)"
      ]
     },
     "execution_count": 17,
     "metadata": {},
     "output_type": "execute_result"
    }
   ],
   "source": [
    "cust_df['COLD_DRINK_CHANNEL_DESCRIPTION'].unique()"
   ]
  },
  {
   "cell_type": "code",
   "execution_count": 18,
   "id": "abbf26f8",
   "metadata": {},
   "outputs": [
    {
     "data": {
      "text/plain": [
       "array(['RETAIL', 'EATING/DRINKING', 'LODGING', 'WHOLESALE',\n",
       "       'DESTINATION VENUE', 'AT WORK', \"GOV'T/EDU\", 'HEALTH/HOSPITAL',\n",
       "       'NON COLD DRINK'], dtype=object)"
      ]
     },
     "execution_count": 18,
     "metadata": {},
     "output_type": "execute_result"
    }
   ],
   "source": [
    "cust_df['COLD_DRINK_CHANNEL_DESCRIPTION'].unique()"
   ]
  },
  {
   "cell_type": "markdown",
   "id": "0308ec08",
   "metadata": {},
   "source": [
    ">Among all the columns about type of activities (Ex.CUSTOMER_TRADE_CHANNEL_DESCRIPTION, CUSTOMER_SUB_TRADE_CHANNEL_DESCRIPTION, BUSINESS_TYPE_EXTENSION_DESCRIPTION, MARKET_DESCRIPTION, COLD_DRINK_CHANNEL_DESCRIPTION) in the customer data, Customer_Activity_Cluster_description (8 unique values) will be used to divide the customer based on type of business."
   ]
  },
  {
   "cell_type": "markdown",
   "id": "6606881f",
   "metadata": {},
   "source": [
    "## Sales Data"
   ]
  },
  {
   "cell_type": "code",
   "execution_count": 19,
   "id": "00ade2de",
   "metadata": {},
   "outputs": [
    {
     "data": {
      "text/html": [
       "<div>\n",
       "<style scoped>\n",
       "    .dataframe tbody tr th:only-of-type {\n",
       "        vertical-align: middle;\n",
       "    }\n",
       "\n",
       "    .dataframe tbody tr th {\n",
       "        vertical-align: top;\n",
       "    }\n",
       "\n",
       "    .dataframe thead th {\n",
       "        text-align: right;\n",
       "    }\n",
       "</style>\n",
       "<table border=\"1\" class=\"dataframe\">\n",
       "  <thead>\n",
       "    <tr style=\"text-align: right;\">\n",
       "      <th></th>\n",
       "      <th>CUSTOMER_NUMBER_BLINDED</th>\n",
       "      <th>PRODUCT_SOLD_BLINDED</th>\n",
       "      <th>BEV_CAT_DESC</th>\n",
       "      <th>CALORIE_CAT_DESC</th>\n",
       "      <th>PACK_TYPE_DESC</th>\n",
       "      <th>PACK_SIZE_SALES_UNIT_DESCRIPTION</th>\n",
       "      <th>PHYSICAL_VOLUME</th>\n",
       "      <th>DISCOUNT</th>\n",
       "      <th>INVOICE_PRICE</th>\n",
       "      <th>DEAD_NET</th>\n",
       "      <th>GROSS_PROFIT_DEAD_NET</th>\n",
       "      <th>COGS</th>\n",
       "      <th>MIN_POSTING_DATE</th>\n",
       "      <th>MAX_POSTING_DATE</th>\n",
       "      <th>NUM_OF_TRANSACTIONS</th>\n",
       "    </tr>\n",
       "  </thead>\n",
       "  <tbody>\n",
       "    <tr>\n",
       "      <th>0</th>\n",
       "      <td>C0051046109640797</td>\n",
       "      <td>M056203880974</td>\n",
       "      <td>CORE SPARKLING</td>\n",
       "      <td>REGULAR CALORIE</td>\n",
       "      <td>Plastic Bottle - Contour</td>\n",
       "      <td>20 OZ 1-Ls 24</td>\n",
       "      <td>88.0</td>\n",
       "      <td>2246.40</td>\n",
       "      <td>2505.60</td>\n",
       "      <td>1924.70</td>\n",
       "      <td>1112.73</td>\n",
       "      <td>682.41</td>\n",
       "      <td>44208</td>\n",
       "      <td>44925</td>\n",
       "      <td>157</td>\n",
       "    </tr>\n",
       "    <tr>\n",
       "      <th>1</th>\n",
       "      <td>C0348074302380406</td>\n",
       "      <td>M042308250090</td>\n",
       "      <td>CORE SPARKLING</td>\n",
       "      <td>LOW CALORIE</td>\n",
       "      <td>Aluminum Can - Sleek</td>\n",
       "      <td>12 OZ 4-Pk 24</td>\n",
       "      <td>58.0</td>\n",
       "      <td>1197.12</td>\n",
       "      <td>1666.92</td>\n",
       "      <td>1468.77</td>\n",
       "      <td>316.19</td>\n",
       "      <td>1185.98</td>\n",
       "      <td>44229</td>\n",
       "      <td>44925</td>\n",
       "      <td>40</td>\n",
       "    </tr>\n",
       "    <tr>\n",
       "      <th>2</th>\n",
       "      <td>C0277089703710223</td>\n",
       "      <td>M010605530774</td>\n",
       "      <td>TEA</td>\n",
       "      <td>LOW CALORIE</td>\n",
       "      <td>Plastic Bottle - Other</td>\n",
       "      <td>18.5 OZ 1-Ls 12</td>\n",
       "      <td>108.0</td>\n",
       "      <td>3429.00</td>\n",
       "      <td>1755.00</td>\n",
       "      <td>1499.03</td>\n",
       "      <td>403.25</td>\n",
       "      <td>1107.73</td>\n",
       "      <td>44627</td>\n",
       "      <td>44925</td>\n",
       "      <td>62</td>\n",
       "    </tr>\n",
       "    <tr>\n",
       "      <th>3</th>\n",
       "      <td>C0112072503650635</td>\n",
       "      <td>M050800200648</td>\n",
       "      <td>ENERGY DRINKS</td>\n",
       "      <td>REGULAR CALORIE</td>\n",
       "      <td>Aluminum Can</td>\n",
       "      <td>16 OZ 1-Ls 24</td>\n",
       "      <td>15.0</td>\n",
       "      <td>307.12</td>\n",
       "      <td>592.88</td>\n",
       "      <td>553.18</td>\n",
       "      <td>77.90</td>\n",
       "      <td>475.28</td>\n",
       "      <td>44721</td>\n",
       "      <td>44925</td>\n",
       "      <td>17</td>\n",
       "    </tr>\n",
       "    <tr>\n",
       "      <th>4</th>\n",
       "      <td>C0305009008200279</td>\n",
       "      <td>M009608400345</td>\n",
       "      <td>CORE SPARKLING</td>\n",
       "      <td>REGULAR CALORIE</td>\n",
       "      <td>Plastic Bottle - Dimple</td>\n",
       "      <td>2 LTR 1-Ls 8</td>\n",
       "      <td>195.0</td>\n",
       "      <td>3382.05</td>\n",
       "      <td>2077.95</td>\n",
       "      <td>1812.90</td>\n",
       "      <td>661.21</td>\n",
       "      <td>1416.99</td>\n",
       "      <td>44201</td>\n",
       "      <td>44925</td>\n",
       "      <td>166</td>\n",
       "    </tr>\n",
       "  </tbody>\n",
       "</table>\n",
       "</div>"
      ],
      "text/plain": [
       "  CUSTOMER_NUMBER_BLINDED PRODUCT_SOLD_BLINDED    BEV_CAT_DESC  \\\n",
       "0       C0051046109640797        M056203880974  CORE SPARKLING   \n",
       "1       C0348074302380406        M042308250090  CORE SPARKLING   \n",
       "2       C0277089703710223        M010605530774             TEA   \n",
       "3       C0112072503650635        M050800200648   ENERGY DRINKS   \n",
       "4       C0305009008200279        M009608400345  CORE SPARKLING   \n",
       "\n",
       "  CALORIE_CAT_DESC            PACK_TYPE_DESC PACK_SIZE_SALES_UNIT_DESCRIPTION  \\\n",
       "0  REGULAR CALORIE  Plastic Bottle - Contour                    20 OZ 1-Ls 24   \n",
       "1      LOW CALORIE      Aluminum Can - Sleek                    12 OZ 4-Pk 24   \n",
       "2      LOW CALORIE    Plastic Bottle - Other                  18.5 OZ 1-Ls 12   \n",
       "3  REGULAR CALORIE              Aluminum Can                    16 OZ 1-Ls 24   \n",
       "4  REGULAR CALORIE   Plastic Bottle - Dimple                     2 LTR 1-Ls 8   \n",
       "\n",
       "   PHYSICAL_VOLUME  DISCOUNT  INVOICE_PRICE  DEAD_NET  GROSS_PROFIT_DEAD_NET  \\\n",
       "0             88.0   2246.40        2505.60   1924.70                1112.73   \n",
       "1             58.0   1197.12        1666.92   1468.77                 316.19   \n",
       "2            108.0   3429.00        1755.00   1499.03                 403.25   \n",
       "3             15.0    307.12         592.88    553.18                  77.90   \n",
       "4            195.0   3382.05        2077.95   1812.90                 661.21   \n",
       "\n",
       "      COGS  MIN_POSTING_DATE  MAX_POSTING_DATE  NUM_OF_TRANSACTIONS  \n",
       "0   682.41             44208             44925                  157  \n",
       "1  1185.98             44229             44925                   40  \n",
       "2  1107.73             44627             44925                   62  \n",
       "3   475.28             44721             44925                   17  \n",
       "4  1416.99             44201             44925                  166  "
      ]
     },
     "execution_count": 19,
     "metadata": {},
     "output_type": "execute_result"
    }
   ],
   "source": [
    "sales_df.head()"
   ]
  },
  {
   "cell_type": "code",
   "execution_count": 20,
   "id": "ab43e84a",
   "metadata": {},
   "outputs": [
    {
     "data": {
      "text/plain": [
       "CUSTOMER_NUMBER_BLINDED     object\n",
       "PRODUCT_SOLD_BLINDED        object\n",
       "BEV_CAT_DESC                object\n",
       "CALORIE_CAT_DESC            object\n",
       "PACK_TYPE_DESC              object\n",
       "                            ...   \n",
       "GROSS_PROFIT_DEAD_NET      float64\n",
       "COGS                       float64\n",
       "MIN_POSTING_DATE             int64\n",
       "MAX_POSTING_DATE             int64\n",
       "NUM_OF_TRANSACTIONS          int64\n",
       "Length: 15, dtype: object"
      ]
     },
     "execution_count": 20,
     "metadata": {},
     "output_type": "execute_result"
    }
   ],
   "source": [
    "sales_df.dtypes"
   ]
  },
  {
   "cell_type": "code",
   "execution_count": 21,
   "id": "eb5a766e",
   "metadata": {},
   "outputs": [
    {
     "data": {
      "text/plain": [
       "(831858, 15)"
      ]
     },
     "execution_count": 21,
     "metadata": {},
     "output_type": "execute_result"
    }
   ],
   "source": [
    "sales_df.shape"
   ]
  },
  {
   "cell_type": "code",
   "execution_count": 22,
   "id": "39331475",
   "metadata": {},
   "outputs": [
    {
     "data": {
      "text/plain": [
       "40390"
      ]
     },
     "execution_count": 22,
     "metadata": {},
     "output_type": "execute_result"
    }
   ],
   "source": [
    "sales_df['CUSTOMER_NUMBER_BLINDED'].nunique()"
   ]
  },
  {
   "cell_type": "code",
   "execution_count": 23,
   "id": "f09f51cb",
   "metadata": {},
   "outputs": [
    {
     "data": {
      "text/plain": [
       "Index(['CUSTOMER_NUMBER_BLINDED', 'PRODUCT_SOLD_BLINDED', 'BEV_CAT_DESC',\n",
       "       'CALORIE_CAT_DESC', 'PACK_TYPE_DESC',\n",
       "       'PACK_SIZE_SALES_UNIT_DESCRIPTION', 'PHYSICAL_VOLUME', 'DISCOUNT',\n",
       "       'INVOICE_PRICE', 'DEAD_NET', 'GROSS_PROFIT_DEAD_NET', 'COGS',\n",
       "       'MIN_POSTING_DATE', 'MAX_POSTING_DATE', 'NUM_OF_TRANSACTIONS'],\n",
       "      dtype='object')"
      ]
     },
     "execution_count": 23,
     "metadata": {},
     "output_type": "execute_result"
    }
   ],
   "source": [
    "sales_df.columns "
   ]
  },
  {
   "cell_type": "markdown",
   "id": "bcffb7ea",
   "metadata": {},
   "source": [
    "## Creating State Column From Sales_office_Description"
   ]
  },
  {
   "cell_type": "code",
   "execution_count": 24,
   "id": "538fc6d4",
   "metadata": {},
   "outputs": [],
   "source": [
    "cust_df[\"STATE\"] = cust_df[\"SALES_OFFICE_DESCRIPTION\"].apply(lambda x: x.split(\",\")[1])"
   ]
  },
  {
   "cell_type": "code",
   "execution_count": 25,
   "id": "df1aa9df",
   "metadata": {
    "scrolled": false
   },
   "outputs": [
    {
     "data": {
      "text/html": [
       "<div>\n",
       "<style scoped>\n",
       "    .dataframe tbody tr th:only-of-type {\n",
       "        vertical-align: middle;\n",
       "    }\n",
       "\n",
       "    .dataframe tbody tr th {\n",
       "        vertical-align: top;\n",
       "    }\n",
       "\n",
       "    .dataframe thead th {\n",
       "        text-align: right;\n",
       "    }\n",
       "</style>\n",
       "<table border=\"1\" class=\"dataframe\">\n",
       "  <thead>\n",
       "    <tr style=\"text-align: right;\">\n",
       "      <th></th>\n",
       "      <th>CUSTOMER_NUMBER_BLINDED</th>\n",
       "      <th>SALES_OFFICE_DESCRIPTION</th>\n",
       "      <th>DELIVERY_PLANT_DESCRIPTION</th>\n",
       "      <th>ON_BOARDING_DATE</th>\n",
       "      <th>ADDRESS_CITY</th>\n",
       "      <th>ADDRESS_ZIP_CODE</th>\n",
       "      <th>COUNTY</th>\n",
       "      <th>GEO_LONGITUDE</th>\n",
       "      <th>GEO_LATITUDE</th>\n",
       "      <th>CUSTOMER_ACTIVITY_CLUSTER_DESCRIPTION</th>\n",
       "      <th>CUSTOMER_TRADE_CHANNEL_DESCRIPTION</th>\n",
       "      <th>CUSTOMER_SUB_TRADE_CHANNEL_DESCRIPTION</th>\n",
       "      <th>BUSINESS_TYPE_EXTENSION_DESCRIPTION</th>\n",
       "      <th>CUSTOMER_TRADE_CHANNEL_DESCRIPTION2</th>\n",
       "      <th>MARKET_DESCRIPTION</th>\n",
       "      <th>COLD_DRINK_CHANNEL_DESCRIPTION</th>\n",
       "      <th>STATE</th>\n",
       "    </tr>\n",
       "  </thead>\n",
       "  <tbody>\n",
       "    <tr>\n",
       "      <th>0</th>\n",
       "      <td>C0895044502170683</td>\n",
       "      <td>Tucson, AZ</td>\n",
       "      <td>Tucson, AZ</td>\n",
       "      <td>42772</td>\n",
       "      <td>TUCSON</td>\n",
       "      <td>85756-6948</td>\n",
       "      <td>PIMA</td>\n",
       "      <td>-110.928378</td>\n",
       "      <td>32.115937</td>\n",
       "      <td>Other Shopping &amp; Ser</td>\n",
       "      <td>General Merchandiser</td>\n",
       "      <td>Other General Mercha</td>\n",
       "      <td>DSD</td>\n",
       "      <td>General Merchandiser</td>\n",
       "      <td>FSOP</td>\n",
       "      <td>RETAIL</td>\n",
       "      <td>AZ</td>\n",
       "    </tr>\n",
       "    <tr>\n",
       "      <th>1</th>\n",
       "      <td>C0409008701210025</td>\n",
       "      <td>Tacoma, WA</td>\n",
       "      <td>Tacoma Sales Center, WA</td>\n",
       "      <td>39944</td>\n",
       "      <td>FORT LEWIS</td>\n",
       "      <td>98433</td>\n",
       "      <td>PIERCE</td>\n",
       "      <td>-122.587244</td>\n",
       "      <td>47.102365</td>\n",
       "      <td>Eating &amp; Drinking</td>\n",
       "      <td>Quick Service Restau</td>\n",
       "      <td>QSR-Pizza</td>\n",
       "      <td>DSD</td>\n",
       "      <td>Quick Service Restau</td>\n",
       "      <td>FSOP</td>\n",
       "      <td>EATING/DRINKING</td>\n",
       "      <td>WA</td>\n",
       "    </tr>\n",
       "    <tr>\n",
       "      <th>2</th>\n",
       "      <td>C0278065006510168</td>\n",
       "      <td>Walla Walla, WA</td>\n",
       "      <td>Walla Walla, WA</td>\n",
       "      <td>38035</td>\n",
       "      <td>COLLEGE PLACE</td>\n",
       "      <td>99324-9730</td>\n",
       "      <td>WALLA WALLA</td>\n",
       "      <td>-118.373040</td>\n",
       "      <td>46.052920</td>\n",
       "      <td>Other Shopping &amp; Ser</td>\n",
       "      <td>General Merchandiser</td>\n",
       "      <td>Hardware/Home-Improv</td>\n",
       "      <td>DSD</td>\n",
       "      <td>General Merchandiser</td>\n",
       "      <td>FSOP</td>\n",
       "      <td>RETAIL</td>\n",
       "      <td>WA</td>\n",
       "    </tr>\n",
       "    <tr>\n",
       "      <th>3</th>\n",
       "      <td>C0559043803480412</td>\n",
       "      <td>Prescott, AZ</td>\n",
       "      <td>Glendale, AZ</td>\n",
       "      <td>34215</td>\n",
       "      <td>PRESCOTT</td>\n",
       "      <td>86301-3313</td>\n",
       "      <td>YAVAPAI</td>\n",
       "      <td>-112.450490</td>\n",
       "      <td>34.545020</td>\n",
       "      <td>Travel/Transportatio</td>\n",
       "      <td>Lodging</td>\n",
       "      <td>Other Lodging</td>\n",
       "      <td>DSD</td>\n",
       "      <td>Lodging</td>\n",
       "      <td>FSOP</td>\n",
       "      <td>LODGING</td>\n",
       "      <td>AZ</td>\n",
       "    </tr>\n",
       "    <tr>\n",
       "      <th>4</th>\n",
       "      <td>C0729091103720749</td>\n",
       "      <td>Reno, NV</td>\n",
       "      <td>Reno, NV</td>\n",
       "      <td>41990</td>\n",
       "      <td>SOUTH LAKE TAHOE</td>\n",
       "      <td>96150-7702</td>\n",
       "      <td>EL DORADO</td>\n",
       "      <td>-119.984227</td>\n",
       "      <td>38.926637</td>\n",
       "      <td>Other Shopping &amp; Ser</td>\n",
       "      <td>Automotive Services</td>\n",
       "      <td>Other Automotive Ser</td>\n",
       "      <td>DSD</td>\n",
       "      <td>Automotive Services</td>\n",
       "      <td>FSOP</td>\n",
       "      <td>RETAIL</td>\n",
       "      <td>NV</td>\n",
       "    </tr>\n",
       "    <tr>\n",
       "      <th>...</th>\n",
       "      <td>...</td>\n",
       "      <td>...</td>\n",
       "      <td>...</td>\n",
       "      <td>...</td>\n",
       "      <td>...</td>\n",
       "      <td>...</td>\n",
       "      <td>...</td>\n",
       "      <td>...</td>\n",
       "      <td>...</td>\n",
       "      <td>...</td>\n",
       "      <td>...</td>\n",
       "      <td>...</td>\n",
       "      <td>...</td>\n",
       "      <td>...</td>\n",
       "      <td>...</td>\n",
       "      <td>...</td>\n",
       "      <td>...</td>\n",
       "    </tr>\n",
       "    <tr>\n",
       "      <th>40381</th>\n",
       "      <td>C0969054506370153</td>\n",
       "      <td>Johnstown, CO</td>\n",
       "      <td>Johnstown, CO</td>\n",
       "      <td>43486</td>\n",
       "      <td>GREELEY</td>\n",
       "      <td>80631-9529</td>\n",
       "      <td>WELD</td>\n",
       "      <td>-104.677498</td>\n",
       "      <td>40.429684</td>\n",
       "      <td>Third Party (Non-Con</td>\n",
       "      <td>All Other</td>\n",
       "      <td>B2B CONTRACTUAL DIST</td>\n",
       "      <td>Secondary Volume</td>\n",
       "      <td>All Other</td>\n",
       "      <td>ALL OTHER</td>\n",
       "      <td>WHOLESALE</td>\n",
       "      <td>CO</td>\n",
       "    </tr>\n",
       "    <tr>\n",
       "      <th>40382</th>\n",
       "      <td>C0826029007880667</td>\n",
       "      <td>Tempe, AZ</td>\n",
       "      <td>Tempe, AZ</td>\n",
       "      <td>43353</td>\n",
       "      <td>CHANDLER</td>\n",
       "      <td>85224-2878</td>\n",
       "      <td>MARICOPA</td>\n",
       "      <td>-111.859055</td>\n",
       "      <td>33.338470</td>\n",
       "      <td>Third Party (Non-Con</td>\n",
       "      <td>All Other</td>\n",
       "      <td>B2B CONTRACTUAL DIST</td>\n",
       "      <td>Secondary Volume</td>\n",
       "      <td>All Other</td>\n",
       "      <td>ALL OTHER</td>\n",
       "      <td>WHOLESALE</td>\n",
       "      <td>AZ</td>\n",
       "    </tr>\n",
       "    <tr>\n",
       "      <th>40383</th>\n",
       "      <td>C0720037102950022</td>\n",
       "      <td>Albuquerque, NM</td>\n",
       "      <td>Albuquerque, NM</td>\n",
       "      <td>42991</td>\n",
       "      <td>ALBUQUERQUE</td>\n",
       "      <td>87113-1554</td>\n",
       "      <td>BERNALILLO</td>\n",
       "      <td>-106.597680</td>\n",
       "      <td>35.184660</td>\n",
       "      <td>Entertainment/Recrea</td>\n",
       "      <td>Recreation</td>\n",
       "      <td>Other Recreation</td>\n",
       "      <td>Spcl Evnt: One Time</td>\n",
       "      <td>Recreation</td>\n",
       "      <td>FSOP</td>\n",
       "      <td>DESTINATION VENUE</td>\n",
       "      <td>NM</td>\n",
       "    </tr>\n",
       "    <tr>\n",
       "      <th>40384</th>\n",
       "      <td>C0285043409270577</td>\n",
       "      <td>Draper, UT</td>\n",
       "      <td>Draper, UT</td>\n",
       "      <td>40140</td>\n",
       "      <td>SALT LAKE CITY</td>\n",
       "      <td>84104</td>\n",
       "      <td>SALT LAKE</td>\n",
       "      <td>-111.974670</td>\n",
       "      <td>40.749605</td>\n",
       "      <td>Other Shopping &amp; Ser</td>\n",
       "      <td>Automotive Services</td>\n",
       "      <td>Other Automotive Ser</td>\n",
       "      <td>DSD</td>\n",
       "      <td>Automotive Services</td>\n",
       "      <td>FSOP</td>\n",
       "      <td>RETAIL</td>\n",
       "      <td>UT</td>\n",
       "    </tr>\n",
       "    <tr>\n",
       "      <th>40385</th>\n",
       "      <td>C0166020805730234</td>\n",
       "      <td>Bellevue, WA</td>\n",
       "      <td>Bellevue, WA</td>\n",
       "      <td>43354</td>\n",
       "      <td>KENT</td>\n",
       "      <td>98032-1123</td>\n",
       "      <td>KING</td>\n",
       "      <td>-122.231210</td>\n",
       "      <td>47.425405</td>\n",
       "      <td>Third Party (Non-Con</td>\n",
       "      <td>All Other</td>\n",
       "      <td>B2B CONTRACTUAL DIST</td>\n",
       "      <td>Secondary Volume</td>\n",
       "      <td>All Other</td>\n",
       "      <td>ALL OTHER</td>\n",
       "      <td>WHOLESALE</td>\n",
       "      <td>WA</td>\n",
       "    </tr>\n",
       "  </tbody>\n",
       "</table>\n",
       "<p>40386 rows × 17 columns</p>\n",
       "</div>"
      ],
      "text/plain": [
       "      CUSTOMER_NUMBER_BLINDED SALES_OFFICE_DESCRIPTION  \\\n",
       "0           C0895044502170683               Tucson, AZ   \n",
       "1           C0409008701210025               Tacoma, WA   \n",
       "2           C0278065006510168          Walla Walla, WA   \n",
       "3           C0559043803480412             Prescott, AZ   \n",
       "4           C0729091103720749                 Reno, NV   \n",
       "...                       ...                      ...   \n",
       "40381       C0969054506370153            Johnstown, CO   \n",
       "40382       C0826029007880667                Tempe, AZ   \n",
       "40383       C0720037102950022          Albuquerque, NM   \n",
       "40384       C0285043409270577               Draper, UT   \n",
       "40385       C0166020805730234             Bellevue, WA   \n",
       "\n",
       "      DELIVERY_PLANT_DESCRIPTION  ON_BOARDING_DATE      ADDRESS_CITY  \\\n",
       "0                     Tucson, AZ             42772            TUCSON   \n",
       "1        Tacoma Sales Center, WA             39944        FORT LEWIS   \n",
       "2                Walla Walla, WA             38035     COLLEGE PLACE   \n",
       "3                   Glendale, AZ             34215          PRESCOTT   \n",
       "4                       Reno, NV             41990  SOUTH LAKE TAHOE   \n",
       "...                          ...               ...               ...   \n",
       "40381              Johnstown, CO             43486           GREELEY   \n",
       "40382                  Tempe, AZ             43353          CHANDLER   \n",
       "40383            Albuquerque, NM             42991       ALBUQUERQUE   \n",
       "40384                 Draper, UT             40140    SALT LAKE CITY   \n",
       "40385               Bellevue, WA             43354              KENT   \n",
       "\n",
       "      ADDRESS_ZIP_CODE       COUNTY  GEO_LONGITUDE  GEO_LATITUDE  \\\n",
       "0           85756-6948         PIMA    -110.928378     32.115937   \n",
       "1                98433       PIERCE    -122.587244     47.102365   \n",
       "2           99324-9730  WALLA WALLA    -118.373040     46.052920   \n",
       "3           86301-3313      YAVAPAI    -112.450490     34.545020   \n",
       "4           96150-7702    EL DORADO    -119.984227     38.926637   \n",
       "...                ...          ...            ...           ...   \n",
       "40381       80631-9529         WELD    -104.677498     40.429684   \n",
       "40382       85224-2878     MARICOPA    -111.859055     33.338470   \n",
       "40383       87113-1554   BERNALILLO    -106.597680     35.184660   \n",
       "40384            84104    SALT LAKE    -111.974670     40.749605   \n",
       "40385       98032-1123         KING    -122.231210     47.425405   \n",
       "\n",
       "      CUSTOMER_ACTIVITY_CLUSTER_DESCRIPTION  \\\n",
       "0                      Other Shopping & Ser   \n",
       "1                         Eating & Drinking   \n",
       "2                      Other Shopping & Ser   \n",
       "3                      Travel/Transportatio   \n",
       "4                      Other Shopping & Ser   \n",
       "...                                     ...   \n",
       "40381                  Third Party (Non-Con   \n",
       "40382                  Third Party (Non-Con   \n",
       "40383                  Entertainment/Recrea   \n",
       "40384                  Other Shopping & Ser   \n",
       "40385                  Third Party (Non-Con   \n",
       "\n",
       "      CUSTOMER_TRADE_CHANNEL_DESCRIPTION  \\\n",
       "0                   General Merchandiser   \n",
       "1                   Quick Service Restau   \n",
       "2                   General Merchandiser   \n",
       "3                                Lodging   \n",
       "4                    Automotive Services   \n",
       "...                                  ...   \n",
       "40381                          All Other   \n",
       "40382                          All Other   \n",
       "40383                         Recreation   \n",
       "40384                Automotive Services   \n",
       "40385                          All Other   \n",
       "\n",
       "      CUSTOMER_SUB_TRADE_CHANNEL_DESCRIPTION  \\\n",
       "0                       Other General Mercha   \n",
       "1                                  QSR-Pizza   \n",
       "2                       Hardware/Home-Improv   \n",
       "3                              Other Lodging   \n",
       "4                       Other Automotive Ser   \n",
       "...                                      ...   \n",
       "40381                   B2B CONTRACTUAL DIST   \n",
       "40382                   B2B CONTRACTUAL DIST   \n",
       "40383                       Other Recreation   \n",
       "40384                   Other Automotive Ser   \n",
       "40385                   B2B CONTRACTUAL DIST   \n",
       "\n",
       "      BUSINESS_TYPE_EXTENSION_DESCRIPTION CUSTOMER_TRADE_CHANNEL_DESCRIPTION2  \\\n",
       "0                                     DSD                General Merchandiser   \n",
       "1                                     DSD                Quick Service Restau   \n",
       "2                                     DSD                General Merchandiser   \n",
       "3                                     DSD                             Lodging   \n",
       "4                                     DSD                 Automotive Services   \n",
       "...                                   ...                                 ...   \n",
       "40381                    Secondary Volume                           All Other   \n",
       "40382                    Secondary Volume                           All Other   \n",
       "40383                 Spcl Evnt: One Time                          Recreation   \n",
       "40384                                 DSD                 Automotive Services   \n",
       "40385                    Secondary Volume                           All Other   \n",
       "\n",
       "      MARKET_DESCRIPTION COLD_DRINK_CHANNEL_DESCRIPTION STATE  \n",
       "0                   FSOP                         RETAIL    AZ  \n",
       "1                   FSOP                EATING/DRINKING    WA  \n",
       "2                   FSOP                         RETAIL    WA  \n",
       "3                   FSOP                        LODGING    AZ  \n",
       "4                   FSOP                         RETAIL    NV  \n",
       "...                  ...                            ...   ...  \n",
       "40381          ALL OTHER                      WHOLESALE    CO  \n",
       "40382          ALL OTHER                      WHOLESALE    AZ  \n",
       "40383               FSOP              DESTINATION VENUE    NM  \n",
       "40384               FSOP                         RETAIL    UT  \n",
       "40385          ALL OTHER                      WHOLESALE    WA  \n",
       "\n",
       "[40386 rows x 17 columns]"
      ]
     },
     "execution_count": 25,
     "metadata": {},
     "output_type": "execute_result"
    }
   ],
   "source": [
    "cust_df"
   ]
  },
  {
   "cell_type": "markdown",
   "id": "d6516126",
   "metadata": {},
   "source": [
    "## Understanding Swire Sales office locations"
   ]
  },
  {
   "cell_type": "code",
   "execution_count": 26,
   "id": "28e0ed01",
   "metadata": {},
   "outputs": [
    {
     "data": {
      "text/plain": [
       "44"
      ]
     },
     "execution_count": 26,
     "metadata": {},
     "output_type": "execute_result"
    }
   ],
   "source": [
    "#Total number of Swire Sales offices\n",
    "cust_df['SALES_OFFICE_DESCRIPTION'].nunique()"
   ]
  },
  {
   "cell_type": "code",
   "execution_count": 27,
   "id": "40ecfd12",
   "metadata": {
    "scrolled": true
   },
   "outputs": [
    {
     "data": {
      "text/plain": [
       "array(['Tucson, AZ', 'Tacoma, WA', 'Walla Walla, WA', 'Prescott, AZ',\n",
       "       'Reno, NV', 'Albuquerque, NM', 'Denver, CO', 'Tempe, AZ',\n",
       "       'Wilsonville, OR', 'Eugene, OR', 'Ogden, UT', 'Bellevue, WA',\n",
       "       'Flagstaff, AZ', 'Draper, UT', 'Johnstown, CO',\n",
       "       'Grand Junction, CO', 'Arlington, WA', 'Colorado Springs, CO',\n",
       "       'Bend, OR', 'Twin Falls, ID', 'Huachuca City, AZ', 'Boise, ID',\n",
       "       'Logan, UT', 'Spokane, WA', 'Alamosa, CO', 'Glendale, AZ',\n",
       "       'Yuma, AZ', 'Kingman, AZ', 'Pueblo, CO', 'Elko, NV',\n",
       "       'Lewiston, ID', 'Bremerton, WA', 'Wenatchee, WA',\n",
       "       'Scottsbluff, NE', 'Pocatello, ID', 'Idaho Falls, ID', 'Price, UT',\n",
       "       'Richfield, UT', 'Show Low, AZ', 'Glenwood Springs, CO',\n",
       "       'Chinle, AZ', 'Cheyenne, WY', 'LaGrande, OR', 'Pendleton, OR'],\n",
       "      dtype=object)"
      ]
     },
     "execution_count": 27,
     "metadata": {},
     "output_type": "execute_result"
    }
   ],
   "source": [
    "# Names of sales office\n",
    "cust_df['SALES_OFFICE_DESCRIPTION'].unique()"
   ]
  },
  {
   "cell_type": "code",
   "execution_count": 28,
   "id": "b5624e96",
   "metadata": {},
   "outputs": [
    {
     "data": {
      "text/plain": [
       "10"
      ]
     },
     "execution_count": 28,
     "metadata": {},
     "output_type": "execute_result"
    }
   ],
   "source": [
    "#Total number of states in the given data\n",
    "cust_df['STATE'].nunique()"
   ]
  },
  {
   "cell_type": "code",
   "execution_count": 29,
   "id": "c2fb7142",
   "metadata": {},
   "outputs": [
    {
     "data": {
      "text/plain": [
       "array([' AZ', ' WA', ' NV', ' NM', ' CO', ' OR', ' UT', ' ID', ' NE',\n",
       "       ' WY'], dtype=object)"
      ]
     },
     "execution_count": 29,
     "metadata": {},
     "output_type": "execute_result"
    }
   ],
   "source": [
    "#Names of states in the given data\n",
    "cust_df['STATE'].unique()"
   ]
  },
  {
   "cell_type": "markdown",
   "id": "40229adb",
   "metadata": {},
   "source": [
    ">Swire sales data is spread across 10 states and it has 44 sales offices located in this states."
   ]
  },
  {
   "cell_type": "markdown",
   "id": "0289857c",
   "metadata": {},
   "source": [
    "## Understanding Swire customer locations"
   ]
  },
  {
   "cell_type": "code",
   "execution_count": 30,
   "id": "3a443e2c",
   "metadata": {},
   "outputs": [
    {
     "data": {
      "text/plain": [
       "247"
      ]
     },
     "execution_count": 30,
     "metadata": {},
     "output_type": "execute_result"
    }
   ],
   "source": [
    "#Total number of Counties\n",
    "cust_df['COUNTY'].nunique()"
   ]
  },
  {
   "cell_type": "code",
   "execution_count": 31,
   "id": "647dc643",
   "metadata": {},
   "outputs": [
    {
     "data": {
      "text/plain": [
       "1361"
      ]
     },
     "execution_count": 31,
     "metadata": {},
     "output_type": "execute_result"
    }
   ],
   "source": [
    "#Total number of cities\n",
    "cust_df['ADDRESS_CITY'].nunique() "
   ]
  },
  {
   "cell_type": "code",
   "execution_count": 32,
   "id": "fcb0918a",
   "metadata": {},
   "outputs": [
    {
     "data": {
      "text/html": [
       "<div>\n",
       "<style scoped>\n",
       "    .dataframe tbody tr th:only-of-type {\n",
       "        vertical-align: middle;\n",
       "    }\n",
       "\n",
       "    .dataframe tbody tr th {\n",
       "        vertical-align: top;\n",
       "    }\n",
       "\n",
       "    .dataframe thead th {\n",
       "        text-align: right;\n",
       "    }\n",
       "</style>\n",
       "<table border=\"1\" class=\"dataframe\">\n",
       "  <thead>\n",
       "    <tr style=\"text-align: right;\">\n",
       "      <th></th>\n",
       "      <th>COUNTY</th>\n",
       "      <th>ADDRESS_CITY</th>\n",
       "      <th>count</th>\n",
       "    </tr>\n",
       "  </thead>\n",
       "  <tbody>\n",
       "    <tr>\n",
       "      <th>0</th>\n",
       "      <td>MARICOPA</td>\n",
       "      <td>PHOENIX</td>\n",
       "      <td>1628</td>\n",
       "    </tr>\n",
       "    <tr>\n",
       "      <th>1</th>\n",
       "      <td>BERNALILLO</td>\n",
       "      <td>ALBUQUERQUE</td>\n",
       "      <td>1166</td>\n",
       "    </tr>\n",
       "    <tr>\n",
       "      <th>2</th>\n",
       "      <td>SALT LAKE</td>\n",
       "      <td>SALT LAKE CITY</td>\n",
       "      <td>1149</td>\n",
       "    </tr>\n",
       "    <tr>\n",
       "      <th>3</th>\n",
       "      <td>PIMA</td>\n",
       "      <td>TUCSON</td>\n",
       "      <td>1040</td>\n",
       "    </tr>\n",
       "    <tr>\n",
       "      <th>4</th>\n",
       "      <td>KING</td>\n",
       "      <td>SEATTLE</td>\n",
       "      <td>1019</td>\n",
       "    </tr>\n",
       "    <tr>\n",
       "      <th>...</th>\n",
       "      <td>...</td>\n",
       "      <td>...</td>\n",
       "      <td>...</td>\n",
       "    </tr>\n",
       "    <tr>\n",
       "      <th>1569</th>\n",
       "      <td>LOS ANGELES</td>\n",
       "      <td>WHITTIER</td>\n",
       "      <td>1</td>\n",
       "    </tr>\n",
       "    <tr>\n",
       "      <th>1570</th>\n",
       "      <td>LYON</td>\n",
       "      <td>SMITH</td>\n",
       "      <td>1</td>\n",
       "    </tr>\n",
       "    <tr>\n",
       "      <th>1571</th>\n",
       "      <td>MARICOPA</td>\n",
       "      <td>LUKE AFB</td>\n",
       "      <td>1</td>\n",
       "    </tr>\n",
       "    <tr>\n",
       "      <th>1572</th>\n",
       "      <td>MARICOPA</td>\n",
       "      <td>NEW RIVER</td>\n",
       "      <td>1</td>\n",
       "    </tr>\n",
       "    <tr>\n",
       "      <th>1573</th>\n",
       "      <td>LEWIS</td>\n",
       "      <td>GLENOMA</td>\n",
       "      <td>1</td>\n",
       "    </tr>\n",
       "  </tbody>\n",
       "</table>\n",
       "<p>1574 rows × 3 columns</p>\n",
       "</div>"
      ],
      "text/plain": [
       "           COUNTY    ADDRESS_CITY  count\n",
       "0        MARICOPA         PHOENIX   1628\n",
       "1      BERNALILLO     ALBUQUERQUE   1166\n",
       "2       SALT LAKE  SALT LAKE CITY   1149\n",
       "3            PIMA          TUCSON   1040\n",
       "4            KING         SEATTLE   1019\n",
       "...           ...             ...    ...\n",
       "1569  LOS ANGELES        WHITTIER      1\n",
       "1570         LYON           SMITH      1\n",
       "1571     MARICOPA        LUKE AFB      1\n",
       "1572     MARICOPA       NEW RIVER      1\n",
       "1573        LEWIS         GLENOMA      1\n",
       "\n",
       "[1574 rows x 3 columns]"
      ]
     },
     "execution_count": 32,
     "metadata": {},
     "output_type": "execute_result"
    }
   ],
   "source": [
    "##addressing the issue--same ADDRESS_CITY in different county\n",
    "cust_df[['COUNTY', 'ADDRESS_CITY']].value_counts().reset_index(name='count')"
   ]
  },
  {
   "cell_type": "code",
   "execution_count": 33,
   "id": "5504f612",
   "metadata": {
    "scrolled": true
   },
   "outputs": [
    {
     "data": {
      "text/html": [
       "<div>\n",
       "<style scoped>\n",
       "    .dataframe tbody tr th:only-of-type {\n",
       "        vertical-align: middle;\n",
       "    }\n",
       "\n",
       "    .dataframe tbody tr th {\n",
       "        vertical-align: top;\n",
       "    }\n",
       "\n",
       "    .dataframe thead th {\n",
       "        text-align: right;\n",
       "    }\n",
       "</style>\n",
       "<table border=\"1\" class=\"dataframe\">\n",
       "  <thead>\n",
       "    <tr style=\"text-align: right;\">\n",
       "      <th></th>\n",
       "      <th>STATE</th>\n",
       "      <th>COUNTY</th>\n",
       "      <th>count</th>\n",
       "    </tr>\n",
       "  </thead>\n",
       "  <tbody>\n",
       "    <tr>\n",
       "      <th>0</th>\n",
       "      <td>AZ</td>\n",
       "      <td>MARICOPA</td>\n",
       "      <td>5016</td>\n",
       "    </tr>\n",
       "    <tr>\n",
       "      <th>1</th>\n",
       "      <td>UT</td>\n",
       "      <td>SALT LAKE</td>\n",
       "      <td>2673</td>\n",
       "    </tr>\n",
       "    <tr>\n",
       "      <th>2</th>\n",
       "      <td>WA</td>\n",
       "      <td>KING</td>\n",
       "      <td>2535</td>\n",
       "    </tr>\n",
       "    <tr>\n",
       "      <th>3</th>\n",
       "      <td>NM</td>\n",
       "      <td>BERNALILLO</td>\n",
       "      <td>1211</td>\n",
       "    </tr>\n",
       "    <tr>\n",
       "      <th>4</th>\n",
       "      <td>WA</td>\n",
       "      <td>PIERCE</td>\n",
       "      <td>1173</td>\n",
       "    </tr>\n",
       "    <tr>\n",
       "      <th>...</th>\n",
       "      <td>...</td>\n",
       "      <td>...</td>\n",
       "      <td>...</td>\n",
       "    </tr>\n",
       "    <tr>\n",
       "      <th>286</th>\n",
       "      <td>UT</td>\n",
       "      <td>DALLAS</td>\n",
       "      <td>1</td>\n",
       "    </tr>\n",
       "    <tr>\n",
       "      <th>287</th>\n",
       "      <td>WA</td>\n",
       "      <td>FRANKLIN</td>\n",
       "      <td>1</td>\n",
       "    </tr>\n",
       "    <tr>\n",
       "      <th>288</th>\n",
       "      <td>ID</td>\n",
       "      <td>KOOTENAI</td>\n",
       "      <td>1</td>\n",
       "    </tr>\n",
       "    <tr>\n",
       "      <th>289</th>\n",
       "      <td>ID</td>\n",
       "      <td>GARFIELD</td>\n",
       "      <td>1</td>\n",
       "    </tr>\n",
       "    <tr>\n",
       "      <th>290</th>\n",
       "      <td>NE</td>\n",
       "      <td>ALBANY</td>\n",
       "      <td>1</td>\n",
       "    </tr>\n",
       "  </tbody>\n",
       "</table>\n",
       "<p>291 rows × 3 columns</p>\n",
       "</div>"
      ],
      "text/plain": [
       "    STATE      COUNTY  count\n",
       "0      AZ    MARICOPA   5016\n",
       "1      UT   SALT LAKE   2673\n",
       "2      WA        KING   2535\n",
       "3      NM  BERNALILLO   1211\n",
       "4      WA      PIERCE   1173\n",
       "..    ...         ...    ...\n",
       "286    UT      DALLAS      1\n",
       "287    WA    FRANKLIN      1\n",
       "288    ID    KOOTENAI      1\n",
       "289    ID    GARFIELD      1\n",
       "290    NE      ALBANY      1\n",
       "\n",
       "[291 rows x 3 columns]"
      ]
     },
     "execution_count": 33,
     "metadata": {},
     "output_type": "execute_result"
    }
   ],
   "source": [
    "##addressing the issue--same county name in different states\n",
    "cust_df[['STATE', 'COUNTY']].value_counts().reset_index(name='count')"
   ]
  },
  {
   "cell_type": "markdown",
   "id": "4101d7d7",
   "metadata": {},
   "source": [
    "> From all the columns about location in the data set, created State column using Sales office description. Found few counties names which are in different states. Hence Counties will always be used together with State. Issue is same with cities also. Hence if using we need to consider State, County,City together i.e all those columns. Example from Data : Adams County is in  Idaho, Denver,Washington states.Infact in USA a lot of states have county by this name. In some applications using Latitude and Longitude will be helpful.\n",
    "\n",
    ">Tried to find customer reviews using Latitude and Longitude. For few i was able to find reviews and for few it is not available. Even if i get those reviews we dont know whether i.e. related to our customer or some other business activity in that location. Hence dropped that idea.\n"
   ]
  },
  {
   "cell_type": "markdown",
   "id": "cefd1a23",
   "metadata": {},
   "source": [
    "## Potential Target variables"
   ]
  },
  {
   "cell_type": "markdown",
   "id": "c3d64743",
   "metadata": {},
   "source": [
    ">Checked the data in clusters( Example : Discount , Invoice price,Dead net,Gross Profit Dead net , Cogs about price)and Targetted few variable and explored.\n",
    "> 1. Invoice Price\n",
    ">2. Number of Transactions\n",
    ">3. Physical Volume\n",
    ">4. Onbarding date to predict longevity\n",
    ">5. Latitude and Longitude for Customer Reviews\n",
    "\n",
    "> 1.Revenue associated columns: Among the Discount , Invoice price,Dead net,Gross Profit Dead net , Cogs --Invoice price Speaks about the revenue. All other column are after doing some deductions from the revenue. I.e. Discount, \n",
    "Cost of goods sold, Profit earned,Advertising cost etc. All these are depend on lot of business decisions at macro and microlevel.These factors doens help in precting the customer Success.Infact Discount will be given based on Customer \n",
    "success not the other way around.Hence not exploring any other column except invoice price among them.\n",
    "\n",
    "> 2.Number of transactions: When i checked the data the number of transaction are based on product wise and it cannot be used as target variable . Ex. one customer ordered 5 different products on a single day.In the data it is noted as 5 transactions.In a business scenario the customer will always order together on a single day, sometime in rare scenario it is possible but not most of the times.Infact this issue is also not addressed in the Data.\n",
    "\n",
    ">3.Physical Volume : Physical volume alone cant be considered as a target variable.\n",
    "PS:Iam still working on the issues associated with the Physical volume.If i can crack it i would like to share the\n",
    "idea with you asap.But as a team we will be working on the other aspects for the presentation.\n",
    "\n",
    ">4.Latitude and Longitude for Customer Reviews:Tried to find customer reviews using Latitude and Longitude.\n",
    "For few i was able to find reviews and for few it is not available. Even if i get those reviews we dont know whether\n",
    "the reviews are related to our customer or some other business activity in that location. Hence dropped that idea.\n",
    "\n",
    ">5.Onbaording date to Predict Longevity: Working on it by creating a new column age based on onboarding date.Exploring the possibilities.\n",
    "\n",
    ">Target variable : Invoice Price. I.e Renamed and used as Revenue. "
   ]
  },
  {
   "cell_type": "markdown",
   "id": "192e9d6b",
   "metadata": {},
   "source": [
    "## Sum of revenue by customer"
   ]
  },
  {
   "cell_type": "code",
   "execution_count": 34,
   "id": "7ac2292c",
   "metadata": {},
   "outputs": [],
   "source": [
    "customer_revenue = sales_df.groupby(by=\"CUSTOMER_NUMBER_BLINDED\")[\"INVOICE_PRICE\"].sum().reset_index()"
   ]
  },
  {
   "cell_type": "code",
   "execution_count": 35,
   "id": "7cd9b0e6",
   "metadata": {},
   "outputs": [],
   "source": [
    "customer_revenue.rename(columns={\"INVOICE_PRICE\":\"REVENUE\"},inplace=True)"
   ]
  },
  {
   "cell_type": "code",
   "execution_count": 36,
   "id": "95a7fd99",
   "metadata": {
    "scrolled": true
   },
   "outputs": [
    {
     "data": {
      "text/html": [
       "<div>\n",
       "<style scoped>\n",
       "    .dataframe tbody tr th:only-of-type {\n",
       "        vertical-align: middle;\n",
       "    }\n",
       "\n",
       "    .dataframe tbody tr th {\n",
       "        vertical-align: top;\n",
       "    }\n",
       "\n",
       "    .dataframe thead th {\n",
       "        text-align: right;\n",
       "    }\n",
       "</style>\n",
       "<table border=\"1\" class=\"dataframe\">\n",
       "  <thead>\n",
       "    <tr style=\"text-align: right;\">\n",
       "      <th></th>\n",
       "      <th>CUSTOMER_NUMBER_BLINDED</th>\n",
       "      <th>REVENUE</th>\n",
       "    </tr>\n",
       "  </thead>\n",
       "  <tbody>\n",
       "    <tr>\n",
       "      <th>0</th>\n",
       "      <td>C0001004007230617</td>\n",
       "      <td>0.00</td>\n",
       "    </tr>\n",
       "    <tr>\n",
       "      <th>1</th>\n",
       "      <td>C0001004306830869</td>\n",
       "      <td>0.00</td>\n",
       "    </tr>\n",
       "    <tr>\n",
       "      <th>2</th>\n",
       "      <td>C0001005009010198</td>\n",
       "      <td>932.52</td>\n",
       "    </tr>\n",
       "    <tr>\n",
       "      <th>3</th>\n",
       "      <td>C0001006902500643</td>\n",
       "      <td>6478.18</td>\n",
       "    </tr>\n",
       "    <tr>\n",
       "      <th>4</th>\n",
       "      <td>C0001007600510372</td>\n",
       "      <td>2739.92</td>\n",
       "    </tr>\n",
       "    <tr>\n",
       "      <th>...</th>\n",
       "      <td>...</td>\n",
       "      <td>...</td>\n",
       "    </tr>\n",
       "    <tr>\n",
       "      <th>40385</th>\n",
       "      <td>C1000079908000761</td>\n",
       "      <td>2548.34</td>\n",
       "    </tr>\n",
       "    <tr>\n",
       "      <th>40386</th>\n",
       "      <td>C1000080305620923</td>\n",
       "      <td>22994.62</td>\n",
       "    </tr>\n",
       "    <tr>\n",
       "      <th>40387</th>\n",
       "      <td>C1000080509070822</td>\n",
       "      <td>2896.06</td>\n",
       "    </tr>\n",
       "    <tr>\n",
       "      <th>40388</th>\n",
       "      <td>C1000084502460358</td>\n",
       "      <td>10864.98</td>\n",
       "    </tr>\n",
       "    <tr>\n",
       "      <th>40389</th>\n",
       "      <td>C1000085304660363</td>\n",
       "      <td>1340.73</td>\n",
       "    </tr>\n",
       "  </tbody>\n",
       "</table>\n",
       "<p>40390 rows × 2 columns</p>\n",
       "</div>"
      ],
      "text/plain": [
       "      CUSTOMER_NUMBER_BLINDED   REVENUE\n",
       "0           C0001004007230617      0.00\n",
       "1           C0001004306830869      0.00\n",
       "2           C0001005009010198    932.52\n",
       "3           C0001006902500643   6478.18\n",
       "4           C0001007600510372   2739.92\n",
       "...                       ...       ...\n",
       "40385       C1000079908000761   2548.34\n",
       "40386       C1000080305620923  22994.62\n",
       "40387       C1000080509070822   2896.06\n",
       "40388       C1000084502460358  10864.98\n",
       "40389       C1000085304660363   1340.73\n",
       "\n",
       "[40390 rows x 2 columns]"
      ]
     },
     "execution_count": 36,
     "metadata": {},
     "output_type": "execute_result"
    }
   ],
   "source": [
    "customer_revenue"
   ]
  },
  {
   "cell_type": "code",
   "execution_count": 37,
   "id": "f2afbbc6",
   "metadata": {},
   "outputs": [],
   "source": [
    "#Merging Revenue with Customer data\n",
    "cust_final = customer_revenue.merge(cust_df, on=\"CUSTOMER_NUMBER_BLINDED\", how = \"left\")"
   ]
  },
  {
   "cell_type": "markdown",
   "id": "8611a18a",
   "metadata": {},
   "source": [
    "## Total Revenue by Customer_activity_cluster_Description"
   ]
  },
  {
   "cell_type": "code",
   "execution_count": 38,
   "id": "3a14df9e",
   "metadata": {},
   "outputs": [],
   "source": [
    "#Exploring revenue by custome business activity\n",
    "cust_activitycluster_revenue = cust_final.groupby(by=\"CUSTOMER_ACTIVITY_CLUSTER_DESCRIPTION\")[\"REVENUE\"].sum().reset_index()"
   ]
  },
  {
   "cell_type": "code",
   "execution_count": 39,
   "id": "89c8aaa7",
   "metadata": {},
   "outputs": [
    {
     "data": {
      "text/html": [
       "<div>\n",
       "<style scoped>\n",
       "    .dataframe tbody tr th:only-of-type {\n",
       "        vertical-align: middle;\n",
       "    }\n",
       "\n",
       "    .dataframe tbody tr th {\n",
       "        vertical-align: top;\n",
       "    }\n",
       "\n",
       "    .dataframe thead th {\n",
       "        text-align: right;\n",
       "    }\n",
       "</style>\n",
       "<table border=\"1\" class=\"dataframe\">\n",
       "  <thead>\n",
       "    <tr style=\"text-align: right;\">\n",
       "      <th></th>\n",
       "      <th>CUSTOMER_ACTIVITY_CLUSTER_DESCRIPTION</th>\n",
       "      <th>REVENUE</th>\n",
       "    </tr>\n",
       "  </thead>\n",
       "  <tbody>\n",
       "    <tr>\n",
       "      <th>0</th>\n",
       "      <td>At-Work</td>\n",
       "      <td>4.956044e+07</td>\n",
       "    </tr>\n",
       "    <tr>\n",
       "      <th>1</th>\n",
       "      <td>Eating &amp; Drinking</td>\n",
       "      <td>2.022769e+08</td>\n",
       "    </tr>\n",
       "    <tr>\n",
       "      <th>2</th>\n",
       "      <td>Educational</td>\n",
       "      <td>2.759857e+07</td>\n",
       "    </tr>\n",
       "    <tr>\n",
       "      <th>3</th>\n",
       "      <td>Entertainment/Recrea</td>\n",
       "      <td>8.717158e+07</td>\n",
       "    </tr>\n",
       "    <tr>\n",
       "      <th>4</th>\n",
       "      <td>Grocery Shopping</td>\n",
       "      <td>3.470118e+07</td>\n",
       "    </tr>\n",
       "    <tr>\n",
       "      <th>5</th>\n",
       "      <td>Other Shopping &amp; Ser</td>\n",
       "      <td>9.448466e+07</td>\n",
       "    </tr>\n",
       "    <tr>\n",
       "      <th>6</th>\n",
       "      <td>Third Party (Non-Con</td>\n",
       "      <td>2.205718e+08</td>\n",
       "    </tr>\n",
       "    <tr>\n",
       "      <th>7</th>\n",
       "      <td>Travel/Transportatio</td>\n",
       "      <td>5.429596e+07</td>\n",
       "    </tr>\n",
       "  </tbody>\n",
       "</table>\n",
       "</div>"
      ],
      "text/plain": [
       "  CUSTOMER_ACTIVITY_CLUSTER_DESCRIPTION       REVENUE\n",
       "0                               At-Work  4.956044e+07\n",
       "1                     Eating & Drinking  2.022769e+08\n",
       "2                           Educational  2.759857e+07\n",
       "3                  Entertainment/Recrea  8.717158e+07\n",
       "4                      Grocery Shopping  3.470118e+07\n",
       "5                  Other Shopping & Ser  9.448466e+07\n",
       "6                  Third Party (Non-Con  2.205718e+08\n",
       "7                  Travel/Transportatio  5.429596e+07"
      ]
     },
     "execution_count": 39,
     "metadata": {},
     "output_type": "execute_result"
    }
   ],
   "source": [
    "cust_activitycluster_revenue "
   ]
  },
  {
   "cell_type": "code",
   "execution_count": 40,
   "id": "c59e7afa",
   "metadata": {},
   "outputs": [
    {
     "data": {
      "text/plain": [
       "<AxesSubplot:xlabel='REVENUE', ylabel='CUSTOMER_ACTIVITY_CLUSTER_DESCRIPTION'>"
      ]
     },
     "execution_count": 40,
     "metadata": {},
     "output_type": "execute_result"
    },
    {
     "data": {
      "image/png": "[encoded data removed]",
      "text/plain": [
       "<Figure size 792x576 with 1 Axes>"
      ]
     },
     "metadata": {},
     "output_type": "display_data"
    }
   ],
   "source": [
    "sns.barplot(x = 'REVENUE',\n",
    "            y = 'CUSTOMER_ACTIVITY_CLUSTER_DESCRIPTION',\n",
    "            data = cust_activitycluster_revenue)"
   ]
  },
  {
   "cell_type": "markdown",
   "id": "4bd9e371",
   "metadata": {},
   "source": [
    "## Total Revenue by COLD_DRINK_CHANNEL_DESCRIPTION"
   ]
  },
  {
   "cell_type": "code",
   "execution_count": 41,
   "id": "929bf1b4",
   "metadata": {},
   "outputs": [],
   "source": [
    "cust_channel_revenue = cust_final.groupby(by=\"COLD_DRINK_CHANNEL_DESCRIPTION\")[\"REVENUE\"].sum().reset_index()"
   ]
  },
  {
   "cell_type": "code",
   "execution_count": 42,
   "id": "5d6ce70e",
   "metadata": {},
   "outputs": [
    {
     "data": {
      "text/html": [
       "<div>\n",
       "<style scoped>\n",
       "    .dataframe tbody tr th:only-of-type {\n",
       "        vertical-align: middle;\n",
       "    }\n",
       "\n",
       "    .dataframe tbody tr th {\n",
       "        vertical-align: top;\n",
       "    }\n",
       "\n",
       "    .dataframe thead th {\n",
       "        text-align: right;\n",
       "    }\n",
       "</style>\n",
       "<table border=\"1\" class=\"dataframe\">\n",
       "  <thead>\n",
       "    <tr style=\"text-align: right;\">\n",
       "      <th></th>\n",
       "      <th>COLD_DRINK_CHANNEL_DESCRIPTION</th>\n",
       "      <th>REVENUE</th>\n",
       "    </tr>\n",
       "  </thead>\n",
       "  <tbody>\n",
       "    <tr>\n",
       "      <th>0</th>\n",
       "      <td>AT WORK</td>\n",
       "      <td>4.235770e+07</td>\n",
       "    </tr>\n",
       "    <tr>\n",
       "      <th>1</th>\n",
       "      <td>DESTINATION VENUE</td>\n",
       "      <td>8.534496e+07</td>\n",
       "    </tr>\n",
       "    <tr>\n",
       "      <th>2</th>\n",
       "      <td>EATING/DRINKING</td>\n",
       "      <td>2.025255e+08</td>\n",
       "    </tr>\n",
       "    <tr>\n",
       "      <th>3</th>\n",
       "      <td>GOV'T/EDU</td>\n",
       "      <td>3.999199e+07</td>\n",
       "    </tr>\n",
       "    <tr>\n",
       "      <th>4</th>\n",
       "      <td>HEALTH/HOSPITAL</td>\n",
       "      <td>3.075212e+07</td>\n",
       "    </tr>\n",
       "    <tr>\n",
       "      <th>5</th>\n",
       "      <td>LODGING</td>\n",
       "      <td>2.085482e+07</td>\n",
       "    </tr>\n",
       "    <tr>\n",
       "      <th>6</th>\n",
       "      <td>NON COLD DRINK</td>\n",
       "      <td>4.492018e+05</td>\n",
       "    </tr>\n",
       "    <tr>\n",
       "      <th>7</th>\n",
       "      <td>RETAIL</td>\n",
       "      <td>1.008605e+08</td>\n",
       "    </tr>\n",
       "    <tr>\n",
       "      <th>8</th>\n",
       "      <td>WHOLESALE</td>\n",
       "      <td>2.475242e+08</td>\n",
       "    </tr>\n",
       "  </tbody>\n",
       "</table>\n",
       "</div>"
      ],
      "text/plain": [
       "  COLD_DRINK_CHANNEL_DESCRIPTION       REVENUE\n",
       "0                        AT WORK  4.235770e+07\n",
       "1              DESTINATION VENUE  8.534496e+07\n",
       "2                EATING/DRINKING  2.025255e+08\n",
       "3                      GOV'T/EDU  3.999199e+07\n",
       "4                HEALTH/HOSPITAL  3.075212e+07\n",
       "5                        LODGING  2.085482e+07\n",
       "6                 NON COLD DRINK  4.492018e+05\n",
       "7                         RETAIL  1.008605e+08\n",
       "8                      WHOLESALE  2.475242e+08"
      ]
     },
     "execution_count": 42,
     "metadata": {},
     "output_type": "execute_result"
    }
   ],
   "source": [
    "cust_channel_revenue"
   ]
  },
  {
   "cell_type": "code",
   "execution_count": 43,
   "id": "31dc9647",
   "metadata": {
    "scrolled": true
   },
   "outputs": [
    {
     "data": {
      "text/plain": [
       "<AxesSubplot:xlabel='REVENUE', ylabel='COLD_DRINK_CHANNEL_DESCRIPTION'>"
      ]
     },
     "execution_count": 43,
     "metadata": {},
     "output_type": "execute_result"
    },
    {
     "data": {
      "image/png": "[encoded data removed]",
      "text/plain": [
       "<Figure size 792x576 with 1 Axes>"
      ]
     },
     "metadata": {},
     "output_type": "display_data"
    }
   ],
   "source": [
    "sns.barplot(x = 'REVENUE',\n",
    "            y = 'COLD_DRINK_CHANNEL_DESCRIPTION',\n",
    "            data = cust_channel_revenue)"
   ]
  },
  {
   "cell_type": "markdown",
   "id": "156358b2",
   "metadata": {},
   "source": [
    "## Customer revenue Across states "
   ]
  },
  {
   "cell_type": "code",
   "execution_count": 44,
   "id": "6491d766",
   "metadata": {},
   "outputs": [],
   "source": [
    "cust_revenue_state = cust_final.groupby(by=\"STATE\")[\"REVENUE\"].sum().reset_index()"
   ]
  },
  {
   "cell_type": "code",
   "execution_count": 45,
   "id": "6c0d6154",
   "metadata": {},
   "outputs": [
    {
     "data": {
      "text/html": [
       "<div>\n",
       "<style scoped>\n",
       "    .dataframe tbody tr th:only-of-type {\n",
       "        vertical-align: middle;\n",
       "    }\n",
       "\n",
       "    .dataframe tbody tr th {\n",
       "        vertical-align: top;\n",
       "    }\n",
       "\n",
       "    .dataframe thead th {\n",
       "        text-align: right;\n",
       "    }\n",
       "</style>\n",
       "<table border=\"1\" class=\"dataframe\">\n",
       "  <thead>\n",
       "    <tr style=\"text-align: right;\">\n",
       "      <th></th>\n",
       "      <th>STATE</th>\n",
       "      <th>REVENUE</th>\n",
       "    </tr>\n",
       "  </thead>\n",
       "  <tbody>\n",
       "    <tr>\n",
       "      <th>0</th>\n",
       "      <td>AZ</td>\n",
       "      <td>1.939843e+08</td>\n",
       "    </tr>\n",
       "    <tr>\n",
       "      <th>1</th>\n",
       "      <td>CO</td>\n",
       "      <td>1.280964e+08</td>\n",
       "    </tr>\n",
       "    <tr>\n",
       "      <th>2</th>\n",
       "      <td>ID</td>\n",
       "      <td>5.194862e+07</td>\n",
       "    </tr>\n",
       "    <tr>\n",
       "      <th>3</th>\n",
       "      <td>NE</td>\n",
       "      <td>2.349807e+06</td>\n",
       "    </tr>\n",
       "    <tr>\n",
       "      <th>4</th>\n",
       "      <td>NM</td>\n",
       "      <td>2.553488e+07</td>\n",
       "    </tr>\n",
       "    <tr>\n",
       "      <th>5</th>\n",
       "      <td>NV</td>\n",
       "      <td>2.634917e+07</td>\n",
       "    </tr>\n",
       "    <tr>\n",
       "      <th>6</th>\n",
       "      <td>OR</td>\n",
       "      <td>7.219116e+07</td>\n",
       "    </tr>\n",
       "    <tr>\n",
       "      <th>7</th>\n",
       "      <td>UT</td>\n",
       "      <td>1.319254e+08</td>\n",
       "    </tr>\n",
       "    <tr>\n",
       "      <th>8</th>\n",
       "      <td>WA</td>\n",
       "      <td>1.345721e+08</td>\n",
       "    </tr>\n",
       "    <tr>\n",
       "      <th>9</th>\n",
       "      <td>WY</td>\n",
       "      <td>3.709237e+06</td>\n",
       "    </tr>\n",
       "  </tbody>\n",
       "</table>\n",
       "</div>"
      ],
      "text/plain": [
       "  STATE       REVENUE\n",
       "0    AZ  1.939843e+08\n",
       "1    CO  1.280964e+08\n",
       "2    ID  5.194862e+07\n",
       "3    NE  2.349807e+06\n",
       "4    NM  2.553488e+07\n",
       "5    NV  2.634917e+07\n",
       "6    OR  7.219116e+07\n",
       "7    UT  1.319254e+08\n",
       "8    WA  1.345721e+08\n",
       "9    WY  3.709237e+06"
      ]
     },
     "execution_count": 45,
     "metadata": {},
     "output_type": "execute_result"
    }
   ],
   "source": [
    "cust_revenue_state"
   ]
  },
  {
   "cell_type": "code",
   "execution_count": 46,
   "id": "827e99b9",
   "metadata": {},
   "outputs": [
    {
     "data": {
      "text/plain": [
       "<AxesSubplot:xlabel='STATE', ylabel='REVENUE'>"
      ]
     },
     "execution_count": 46,
     "metadata": {},
     "output_type": "execute_result"
    },
    {
     "data": {
      "image/png": "[encoded data removed]",
      "text/plain": [
       "<Figure size 792x576 with 1 Axes>"
      ]
     },
     "metadata": {},
     "output_type": "display_data"
    }
   ],
   "source": [
    "sns.barplot(y = 'REVENUE',\n",
    "            x = 'STATE',\n",
    "            data = cust_revenue_state)"
   ]
  },
  {
   "cell_type": "code",
   "execution_count": 47,
   "id": "24e9ae2d",
   "metadata": {},
   "outputs": [],
   "source": [
    "cust_final_subset = cust_final[[\"CUSTOMER_NUMBER_BLINDED\",\"ADDRESS_CITY\",\"COUNTY\",\"CUSTOMER_ACTIVITY_CLUSTER_DESCRIPTION\",\"CUSTOMER_TRADE_CHANNEL_DESCRIPTION\",\"CUSTOMER_SUB_TRADE_CHANNEL_DESCRIPTION\",\"BUSINESS_TYPE_EXTENSION_DESCRIPTION\",\"CUSTOMER_TRADE_CHANNEL_DESCRIPTION2\",\"MARKET_DESCRIPTION\",\"COLD_DRINK_CHANNEL_DESCRIPTION\",\"STATE\",\"REVENUE\"]]"
   ]
  },
  {
   "cell_type": "code",
   "execution_count": 48,
   "id": "632f8872",
   "metadata": {},
   "outputs": [
    {
     "data": {
      "text/html": [
       "<div>\n",
       "<style scoped>\n",
       "    .dataframe tbody tr th:only-of-type {\n",
       "        vertical-align: middle;\n",
       "    }\n",
       "\n",
       "    .dataframe tbody tr th {\n",
       "        vertical-align: top;\n",
       "    }\n",
       "\n",
       "    .dataframe thead th {\n",
       "        text-align: right;\n",
       "    }\n",
       "</style>\n",
       "<table border=\"1\" class=\"dataframe\">\n",
       "  <thead>\n",
       "    <tr style=\"text-align: right;\">\n",
       "      <th></th>\n",
       "      <th>CUSTOMER_NUMBER_BLINDED</th>\n",
       "      <th>ADDRESS_CITY</th>\n",
       "      <th>COUNTY</th>\n",
       "      <th>CUSTOMER_ACTIVITY_CLUSTER_DESCRIPTION</th>\n",
       "      <th>CUSTOMER_TRADE_CHANNEL_DESCRIPTION</th>\n",
       "      <th>CUSTOMER_SUB_TRADE_CHANNEL_DESCRIPTION</th>\n",
       "      <th>BUSINESS_TYPE_EXTENSION_DESCRIPTION</th>\n",
       "      <th>CUSTOMER_TRADE_CHANNEL_DESCRIPTION2</th>\n",
       "      <th>MARKET_DESCRIPTION</th>\n",
       "      <th>COLD_DRINK_CHANNEL_DESCRIPTION</th>\n",
       "      <th>STATE</th>\n",
       "      <th>REVENUE</th>\n",
       "    </tr>\n",
       "  </thead>\n",
       "  <tbody>\n",
       "    <tr>\n",
       "      <th>0</th>\n",
       "      <td>C0001004007230617</td>\n",
       "      <td>SPARKS</td>\n",
       "      <td>WASHOE</td>\n",
       "      <td>Third Party (Non-Con</td>\n",
       "      <td>All Other</td>\n",
       "      <td>B2B CONTRACTUAL DIST</td>\n",
       "      <td>Secondary Volume</td>\n",
       "      <td>All Other</td>\n",
       "      <td>ALL OTHER</td>\n",
       "      <td>WHOLESALE</td>\n",
       "      <td>NV</td>\n",
       "      <td>0.00</td>\n",
       "    </tr>\n",
       "    <tr>\n",
       "      <th>1</th>\n",
       "      <td>C0001004306830869</td>\n",
       "      <td>RENO</td>\n",
       "      <td>WASHOE</td>\n",
       "      <td>Third Party (Non-Con</td>\n",
       "      <td>All Other</td>\n",
       "      <td>B2B CONTRACTUAL DIST</td>\n",
       "      <td>Secondary Volume</td>\n",
       "      <td>All Other</td>\n",
       "      <td>ALL OTHER</td>\n",
       "      <td>WHOLESALE</td>\n",
       "      <td>NV</td>\n",
       "      <td>0.00</td>\n",
       "    </tr>\n",
       "    <tr>\n",
       "      <th>2</th>\n",
       "      <td>C0001005009010198</td>\n",
       "      <td>EDMONDS</td>\n",
       "      <td>SNOHOMISH</td>\n",
       "      <td>Eating &amp; Drinking</td>\n",
       "      <td>Other Eating &amp; Drink</td>\n",
       "      <td>Other Eating &amp; Drink</td>\n",
       "      <td>DSD</td>\n",
       "      <td>Other Eating &amp; Drink</td>\n",
       "      <td>FSOP</td>\n",
       "      <td>EATING/DRINKING</td>\n",
       "      <td>WA</td>\n",
       "      <td>932.52</td>\n",
       "    </tr>\n",
       "    <tr>\n",
       "      <th>3</th>\n",
       "      <td>C0001006902500643</td>\n",
       "      <td>LONGVIEW</td>\n",
       "      <td>COWLITZ</td>\n",
       "      <td>Other Shopping &amp; Ser</td>\n",
       "      <td>Automotive Services</td>\n",
       "      <td>Other Automotive Ser</td>\n",
       "      <td>DSD</td>\n",
       "      <td>Automotive Services</td>\n",
       "      <td>FSOP</td>\n",
       "      <td>RETAIL</td>\n",
       "      <td>OR</td>\n",
       "      <td>6478.18</td>\n",
       "    </tr>\n",
       "    <tr>\n",
       "      <th>4</th>\n",
       "      <td>C0001007600510372</td>\n",
       "      <td>SPARKS</td>\n",
       "      <td>WASHOE</td>\n",
       "      <td>Eating &amp; Drinking</td>\n",
       "      <td>Bar/Tavern/Licensed</td>\n",
       "      <td>Other Bar/Tavern/Lic</td>\n",
       "      <td>DSD</td>\n",
       "      <td>Bar/Tavern/Licensed</td>\n",
       "      <td>FSOP</td>\n",
       "      <td>EATING/DRINKING</td>\n",
       "      <td>NV</td>\n",
       "      <td>2739.92</td>\n",
       "    </tr>\n",
       "    <tr>\n",
       "      <th>...</th>\n",
       "      <td>...</td>\n",
       "      <td>...</td>\n",
       "      <td>...</td>\n",
       "      <td>...</td>\n",
       "      <td>...</td>\n",
       "      <td>...</td>\n",
       "      <td>...</td>\n",
       "      <td>...</td>\n",
       "      <td>...</td>\n",
       "      <td>...</td>\n",
       "      <td>...</td>\n",
       "      <td>...</td>\n",
       "    </tr>\n",
       "    <tr>\n",
       "      <th>40385</th>\n",
       "      <td>C1000079908000761</td>\n",
       "      <td>MOAB</td>\n",
       "      <td>GRAND</td>\n",
       "      <td>Eating &amp; Drinking</td>\n",
       "      <td>Full Service Restaur</td>\n",
       "      <td>FSR-All Other</td>\n",
       "      <td>DSD</td>\n",
       "      <td>Full Service Restaur</td>\n",
       "      <td>FSOP</td>\n",
       "      <td>EATING/DRINKING</td>\n",
       "      <td>UT</td>\n",
       "      <td>2548.34</td>\n",
       "    </tr>\n",
       "    <tr>\n",
       "      <th>40386</th>\n",
       "      <td>C1000080305620923</td>\n",
       "      <td>OREGON CITY</td>\n",
       "      <td>CLACKAMAS</td>\n",
       "      <td>Other Shopping &amp; Ser</td>\n",
       "      <td>General Merchandiser</td>\n",
       "      <td>Other General Mercha</td>\n",
       "      <td>DSD</td>\n",
       "      <td>General Merchandiser</td>\n",
       "      <td>FSOP</td>\n",
       "      <td>RETAIL</td>\n",
       "      <td>OR</td>\n",
       "      <td>22994.62</td>\n",
       "    </tr>\n",
       "    <tr>\n",
       "      <th>40387</th>\n",
       "      <td>C1000080509070822</td>\n",
       "      <td>SEATTLE</td>\n",
       "      <td>KING</td>\n",
       "      <td>Eating &amp; Drinking</td>\n",
       "      <td>Full Service Restaur</td>\n",
       "      <td>FSR-All Other</td>\n",
       "      <td>DSD</td>\n",
       "      <td>Full Service Restaur</td>\n",
       "      <td>FSOP</td>\n",
       "      <td>EATING/DRINKING</td>\n",
       "      <td>WA</td>\n",
       "      <td>2896.06</td>\n",
       "    </tr>\n",
       "    <tr>\n",
       "      <th>40388</th>\n",
       "      <td>C1000084502460358</td>\n",
       "      <td>MONROE</td>\n",
       "      <td>SNOHOMISH</td>\n",
       "      <td>Eating &amp; Drinking</td>\n",
       "      <td>Full Service Restaur</td>\n",
       "      <td>FSR-All Other</td>\n",
       "      <td>DSD</td>\n",
       "      <td>Full Service Restaur</td>\n",
       "      <td>FSOP</td>\n",
       "      <td>EATING/DRINKING</td>\n",
       "      <td>WA</td>\n",
       "      <td>10864.98</td>\n",
       "    </tr>\n",
       "    <tr>\n",
       "      <th>40389</th>\n",
       "      <td>C1000085304660363</td>\n",
       "      <td>SOUTH BEND</td>\n",
       "      <td>PACIFIC</td>\n",
       "      <td>Eating &amp; Drinking</td>\n",
       "      <td>Other Eating &amp; Drink</td>\n",
       "      <td>Other Eating &amp; Drink</td>\n",
       "      <td>DSD</td>\n",
       "      <td>Other Eating &amp; Drink</td>\n",
       "      <td>FSOP</td>\n",
       "      <td>EATING/DRINKING</td>\n",
       "      <td>WA</td>\n",
       "      <td>1340.73</td>\n",
       "    </tr>\n",
       "  </tbody>\n",
       "</table>\n",
       "<p>40390 rows × 12 columns</p>\n",
       "</div>"
      ],
      "text/plain": [
       "      CUSTOMER_NUMBER_BLINDED ADDRESS_CITY     COUNTY  \\\n",
       "0           C0001004007230617       SPARKS     WASHOE   \n",
       "1           C0001004306830869         RENO     WASHOE   \n",
       "2           C0001005009010198      EDMONDS  SNOHOMISH   \n",
       "3           C0001006902500643     LONGVIEW    COWLITZ   \n",
       "4           C0001007600510372       SPARKS     WASHOE   \n",
       "...                       ...          ...        ...   \n",
       "40385       C1000079908000761         MOAB      GRAND   \n",
       "40386       C1000080305620923  OREGON CITY  CLACKAMAS   \n",
       "40387       C1000080509070822      SEATTLE       KING   \n",
       "40388       C1000084502460358       MONROE  SNOHOMISH   \n",
       "40389       C1000085304660363   SOUTH BEND    PACIFIC   \n",
       "\n",
       "      CUSTOMER_ACTIVITY_CLUSTER_DESCRIPTION  \\\n",
       "0                      Third Party (Non-Con   \n",
       "1                      Third Party (Non-Con   \n",
       "2                         Eating & Drinking   \n",
       "3                      Other Shopping & Ser   \n",
       "4                         Eating & Drinking   \n",
       "...                                     ...   \n",
       "40385                     Eating & Drinking   \n",
       "40386                  Other Shopping & Ser   \n",
       "40387                     Eating & Drinking   \n",
       "40388                     Eating & Drinking   \n",
       "40389                     Eating & Drinking   \n",
       "\n",
       "      CUSTOMER_TRADE_CHANNEL_DESCRIPTION  \\\n",
       "0                              All Other   \n",
       "1                              All Other   \n",
       "2                   Other Eating & Drink   \n",
       "3                    Automotive Services   \n",
       "4                    Bar/Tavern/Licensed   \n",
       "...                                  ...   \n",
       "40385               Full Service Restaur   \n",
       "40386               General Merchandiser   \n",
       "40387               Full Service Restaur   \n",
       "40388               Full Service Restaur   \n",
       "40389               Other Eating & Drink   \n",
       "\n",
       "      CUSTOMER_SUB_TRADE_CHANNEL_DESCRIPTION  \\\n",
       "0                       B2B CONTRACTUAL DIST   \n",
       "1                       B2B CONTRACTUAL DIST   \n",
       "2                       Other Eating & Drink   \n",
       "3                       Other Automotive Ser   \n",
       "4                       Other Bar/Tavern/Lic   \n",
       "...                                      ...   \n",
       "40385                          FSR-All Other   \n",
       "40386                   Other General Mercha   \n",
       "40387                          FSR-All Other   \n",
       "40388                          FSR-All Other   \n",
       "40389                   Other Eating & Drink   \n",
       "\n",
       "      BUSINESS_TYPE_EXTENSION_DESCRIPTION CUSTOMER_TRADE_CHANNEL_DESCRIPTION2  \\\n",
       "0                        Secondary Volume                           All Other   \n",
       "1                        Secondary Volume                           All Other   \n",
       "2                                     DSD                Other Eating & Drink   \n",
       "3                                     DSD                 Automotive Services   \n",
       "4                                     DSD                 Bar/Tavern/Licensed   \n",
       "...                                   ...                                 ...   \n",
       "40385                                 DSD                Full Service Restaur   \n",
       "40386                                 DSD                General Merchandiser   \n",
       "40387                                 DSD                Full Service Restaur   \n",
       "40388                                 DSD                Full Service Restaur   \n",
       "40389                                 DSD                Other Eating & Drink   \n",
       "\n",
       "      MARKET_DESCRIPTION COLD_DRINK_CHANNEL_DESCRIPTION STATE   REVENUE  \n",
       "0              ALL OTHER                      WHOLESALE    NV      0.00  \n",
       "1              ALL OTHER                      WHOLESALE    NV      0.00  \n",
       "2                   FSOP                EATING/DRINKING    WA    932.52  \n",
       "3                   FSOP                         RETAIL    OR   6478.18  \n",
       "4                   FSOP                EATING/DRINKING    NV   2739.92  \n",
       "...                  ...                            ...   ...       ...  \n",
       "40385               FSOP                EATING/DRINKING    UT   2548.34  \n",
       "40386               FSOP                         RETAIL    OR  22994.62  \n",
       "40387               FSOP                EATING/DRINKING    WA   2896.06  \n",
       "40388               FSOP                EATING/DRINKING    WA  10864.98  \n",
       "40389               FSOP                EATING/DRINKING    WA   1340.73  \n",
       "\n",
       "[40390 rows x 12 columns]"
      ]
     },
     "execution_count": 48,
     "metadata": {},
     "output_type": "execute_result"
    }
   ],
   "source": [
    "cust_final_subset"
   ]
  },
  {
   "cell_type": "code",
   "execution_count": 79,
   "id": "00a96aaa",
   "metadata": {},
   "outputs": [
    {
     "data": {
      "text/plain": [
       "count      40390.000000\n",
       "mean       19081.019563\n",
       "std       122090.010102\n",
       "min       -70583.320000\n",
       "25%          727.097500\n",
       "50%         3721.255000\n",
       "75%        12203.800000\n",
       "max      7181257.910000\n",
       "Name: REVENUE, dtype: object"
      ]
     },
     "execution_count": 79,
     "metadata": {},
     "output_type": "execute_result"
    }
   ],
   "source": [
    "cust_final_subset['REVENUE'].describe().apply(lambda x: format(x, 'f'))"
   ]
  },
  {
   "cell_type": "markdown",
   "id": "dbbbb621",
   "metadata": {},
   "source": [
    "# EDA Results/Overview"
   ]
  },
  {
   "cell_type": "markdown",
   "id": "812b1205",
   "metadata": {},
   "source": [
    ">Performed Exploratory Data Analysis (EDA) on the Swire Coca-Cola customer and salesdata. \n",
    "\n",
    ">The EDA includes the following steps:\n",
    "\n",
    ">Imported the necessary libraries and Imported the customer and sales data files into Pandas data frames.Checked the\n",
    "dimensions of each data frame and previewed the data to understand it better.\n",
    "\n",
    ">Addressing NAs in the Sales_df Column:Checked for missing values in each data frame using the isnull().sum()function. There are 73623 rows where both the cells are blank. Columns like Bev_cat_desc, Calotie_Cat_desc etc talks about product preference by customer.Our use case is not to find the purchasing patterns by product types which are liked by the customer.Apart from this when i digged deeply about these rows , majority of the rows speaks about paper cup with different sizes, Co2 tank etc.Hence ignoring the Nas and not exploring the Columns which are related to product type or category. There two county names which are blank. When i explored the sales data for this two it is neglisible. \n",
    "On top of it among 40k customers and 0.8 million rows in sales data it is ignored.\n",
    "\n",
    ">Understanding Customer Business Type: Explored all the columns about type of activities (Ex.CUSTOMER_TRADE_CHANNEL_DESCRIPTION, CUSTOMER_SUB_TRADE_CHANNEL_DESCRIPTION, BUSINESS_TYPE_EXTENSION_DESCRIPTION, MARKET_DESCRIPTION, COLD_DRINK_CHANNEL_DESCRIPTION) in the customer data Customer_Activity_Cluster_description (8 unique values) will be used to divide the customer type of business.\n",
    "\n",
    ">Understanding Swire customer and Sales office locations : Explored Sales_office_description,County, Address City, Latitude & Longitude and Created State column. Swire sales data is spread across 10 states and it has 44 sales offices located in this states.Swire customers are located in 10 states and 290 counties and 1574 cities. Addressed the issue of same county name in different states.\n",
    "\n",
    ">Checked the data in clusters( Example : Discount , Invoice price,Dead net,Gross Profit Dead net , Cogs about price)and Targetted few variable and explored.\n",
    "> 1. Invoice Price\n",
    ">2. Number of Transactions\n",
    ">3. Physical Volume\n",
    ">4. Onbarding date to predict longevity\n",
    ">5. Latitude and Longitude for Customer Reviews\n",
    "\n",
    "> 1.Revenue associated columns: Among the Discount , Invoice price,Dead net,Gross Profit Dead net , Cogs --Invoice price Speaks about the revenue. All other column are after doing some deductions from the revenue. I.e. Discount, \n",
    "Cost of goods sold, Profit earned,Advertising cost etc. All these are depend on lot of business decisions at macro and microlevel.These factors doens help in precting the customer Success.Infact Discount will be given based on Customer \n",
    "success not the other way around.Hence not exploring any other column except invoice price among them.\n",
    "\n",
    "> 2.Number of transactions: When i checked the data the number of transaction are based on product wise and it cannot be used as target variable . Ex. one customer ordered 5 different products on a single day.In the data it is noted as 5 transactions.In a business scenario the customer will always order together on a single day, sometime in rare scenario it is possible but not most of the times.Infact this issue is also not addressed in the Data.\n",
    "\n",
    ">3.Physical Volume : Physical volume alone cant be considered as a target variable.\n",
    "PS:Iam still working on the issues associated with the Physical volume.If i can crack it i would like to share the\n",
    "idea with you asap.But as a team we will be working on the other aspects for the presentation.\n",
    "\n",
    ">4.Onbaording date to Predict Longevity: Working on it by creating a new column age based on onboarding date.Exploring the possibilities.\n",
    "\n",
    ">5.Latitude and Longitude for Customer Reviews:Tried to find customer reviews using Latitude and Longitude.\n",
    "For few i was able to find reviews and for few it is not available. Even if i get those reviews we dont know whether\n",
    "the reviews are related to our customer or some other business activity in that location. Hence dropped that idea.\n",
    "\n",
    ">Target variable : Invoice Price. I.e Renamed and used as Revenue. \n",
    "\n",
    ">Explored Customer_activity_cluster_description , State wide, County wide, City wide  absed on Revenue."
   ]
  },
  {
   "cell_type": "markdown",
   "id": "9f876d81",
   "metadata": {},
   "source": [
    "# 3.Modelling"
   ]
  },
  {
   "cell_type": "markdown",
   "id": "4c95cbe7",
   "metadata": {},
   "source": [
    "### Modeling Process - Candidate Models :\n",
    ">1. Forecast 2. Decision Tree Regressor\n",
    "\n",
    "### Modeling Process - Model Selection : \n",
    ">I decided to have a decision tree regressor for this particular case because the prediction has to be about sales. Initially I considered to have two models. One is a forecasting model and the other is a regressor model. But, for forecasting, there are not enough dates and there was only min_posting_date and max_posting_date with cumulative transactions for customers during these dates. This will not be an efficient way for a forecast model so instead, I decided on taking a regressor model. For this decision tree regressor, I have used MAE.\n",
    "\n",
    "### Modeling Process - Cross Validation :\n",
    ">I used 25% of the data for test and 75% used it for training purposes. I split the data using train test split to split the data into training x labels and y labels and testing x labels and y labels. "
   ]
  },
  {
   "cell_type": "code",
   "execution_count": 49,
   "id": "91195297",
   "metadata": {},
   "outputs": [],
   "source": [
    "from sklearn.preprocessing import LabelEncoder\n",
    "from sklearn.pipeline import Pipeline"
   ]
  },
  {
   "cell_type": "code",
   "execution_count": 50,
   "id": "9517a07f",
   "metadata": {},
   "outputs": [],
   "source": [
    "class MultiColumnLabelEncoder:\n",
    "    def __init__(self,columns = None):\n",
    "        self.columns = columns # array of column names to encode\n",
    "\n",
    "    def fit(self,X,y=None):\n",
    "        return self # not relevant here\n",
    "\n",
    "    def transform(self,X):\n",
    "        '''\n",
    "        Transforms columns of X specified in self.columns using\n",
    "        LabelEncoder(). If no columns specified, transforms all\n",
    "        columns in X.\n",
    "        '''\n",
    "        output = X.copy()\n",
    "        if self.columns is not None:\n",
    "            for col in self.columns:\n",
    "                output[col] = LabelEncoder().fit_transform(output[col])\n",
    "        else:\n",
    "            for colname,col in output.iteritems():\n",
    "                output[colname] = LabelEncoder().fit_transform(col)\n",
    "        return output\n",
    "\n",
    "    def fit_transform(self,X,y=None):\n",
    "        return self.fit(X,y).transform(X)"
   ]
  },
  {
   "cell_type": "code",
   "execution_count": 51,
   "id": "ab23eda9",
   "metadata": {},
   "outputs": [],
   "source": [
    "cust_final_subset_v1 = MultiColumnLabelEncoder(columns = [\"ADDRESS_CITY\",\"COUNTY\",\"CUSTOMER_ACTIVITY_CLUSTER_DESCRIPTION\",\"CUSTOMER_TRADE_CHANNEL_DESCRIPTION\",\"CUSTOMER_SUB_TRADE_CHANNEL_DESCRIPTION\",\"BUSINESS_TYPE_EXTENSION_DESCRIPTION\",\"CUSTOMER_TRADE_CHANNEL_DESCRIPTION2\",\"MARKET_DESCRIPTION\",\"COLD_DRINK_CHANNEL_DESCRIPTION\",\"STATE\"]).fit_transform(cust_final_subset)"
   ]
  },
  {
   "cell_type": "code",
   "execution_count": 52,
   "id": "c2d9af63",
   "metadata": {},
   "outputs": [
    {
     "data": {
      "text/html": [
       "<div>\n",
       "<style scoped>\n",
       "    .dataframe tbody tr th:only-of-type {\n",
       "        vertical-align: middle;\n",
       "    }\n",
       "\n",
       "    .dataframe tbody tr th {\n",
       "        vertical-align: top;\n",
       "    }\n",
       "\n",
       "    .dataframe thead th {\n",
       "        text-align: right;\n",
       "    }\n",
       "</style>\n",
       "<table border=\"1\" class=\"dataframe\">\n",
       "  <thead>\n",
       "    <tr style=\"text-align: right;\">\n",
       "      <th></th>\n",
       "      <th>CUSTOMER_NUMBER_BLINDED</th>\n",
       "      <th>ADDRESS_CITY</th>\n",
       "      <th>COUNTY</th>\n",
       "      <th>CUSTOMER_ACTIVITY_CLUSTER_DESCRIPTION</th>\n",
       "      <th>CUSTOMER_TRADE_CHANNEL_DESCRIPTION</th>\n",
       "      <th>CUSTOMER_SUB_TRADE_CHANNEL_DESCRIPTION</th>\n",
       "      <th>BUSINESS_TYPE_EXTENSION_DESCRIPTION</th>\n",
       "      <th>CUSTOMER_TRADE_CHANNEL_DESCRIPTION2</th>\n",
       "      <th>MARKET_DESCRIPTION</th>\n",
       "      <th>COLD_DRINK_CHANNEL_DESCRIPTION</th>\n",
       "      <th>STATE</th>\n",
       "      <th>REVENUE</th>\n",
       "    </tr>\n",
       "  </thead>\n",
       "  <tbody>\n",
       "    <tr>\n",
       "      <th>0</th>\n",
       "      <td>C0001004007230617</td>\n",
       "      <td>1138</td>\n",
       "      <td>237</td>\n",
       "      <td>6</td>\n",
       "      <td>0</td>\n",
       "      <td>2</td>\n",
       "      <td>9</td>\n",
       "      <td>0</td>\n",
       "      <td>0</td>\n",
       "      <td>8</td>\n",
       "      <td>5</td>\n",
       "      <td>0.00</td>\n",
       "    </tr>\n",
       "    <tr>\n",
       "      <th>1</th>\n",
       "      <td>C0001004306830869</td>\n",
       "      <td>992</td>\n",
       "      <td>237</td>\n",
       "      <td>6</td>\n",
       "      <td>0</td>\n",
       "      <td>2</td>\n",
       "      <td>9</td>\n",
       "      <td>0</td>\n",
       "      <td>0</td>\n",
       "      <td>8</td>\n",
       "      <td>5</td>\n",
       "      <td>0.00</td>\n",
       "    </tr>\n",
       "    <tr>\n",
       "      <th>2</th>\n",
       "      <td>C0001005009010198</td>\n",
       "      <td>329</td>\n",
       "      <td>209</td>\n",
       "      <td>1</td>\n",
       "      <td>15</td>\n",
       "      <td>23</td>\n",
       "      <td>4</td>\n",
       "      <td>15</td>\n",
       "      <td>1</td>\n",
       "      <td>2</td>\n",
       "      <td>8</td>\n",
       "      <td>932.52</td>\n",
       "    </tr>\n",
       "    <tr>\n",
       "      <th>3</th>\n",
       "      <td>C0001006902500643</td>\n",
       "      <td>665</td>\n",
       "      <td>54</td>\n",
       "      <td>5</td>\n",
       "      <td>2</td>\n",
       "      <td>19</td>\n",
       "      <td>4</td>\n",
       "      <td>2</td>\n",
       "      <td>1</td>\n",
       "      <td>7</td>\n",
       "      <td>6</td>\n",
       "      <td>6478.18</td>\n",
       "    </tr>\n",
       "    <tr>\n",
       "      <th>4</th>\n",
       "      <td>C0001007600510372</td>\n",
       "      <td>1138</td>\n",
       "      <td>237</td>\n",
       "      <td>1</td>\n",
       "      <td>3</td>\n",
       "      <td>20</td>\n",
       "      <td>4</td>\n",
       "      <td>3</td>\n",
       "      <td>1</td>\n",
       "      <td>2</td>\n",
       "      <td>5</td>\n",
       "      <td>2739.92</td>\n",
       "    </tr>\n",
       "    <tr>\n",
       "      <th>...</th>\n",
       "      <td>...</td>\n",
       "      <td>...</td>\n",
       "      <td>...</td>\n",
       "      <td>...</td>\n",
       "      <td>...</td>\n",
       "      <td>...</td>\n",
       "      <td>...</td>\n",
       "      <td>...</td>\n",
       "      <td>...</td>\n",
       "      <td>...</td>\n",
       "      <td>...</td>\n",
       "      <td>...</td>\n",
       "    </tr>\n",
       "    <tr>\n",
       "      <th>40385</th>\n",
       "      <td>C1000079908000761</td>\n",
       "      <td>760</td>\n",
       "      <td>91</td>\n",
       "      <td>1</td>\n",
       "      <td>7</td>\n",
       "      <td>11</td>\n",
       "      <td>4</td>\n",
       "      <td>7</td>\n",
       "      <td>1</td>\n",
       "      <td>2</td>\n",
       "      <td>7</td>\n",
       "      <td>2548.34</td>\n",
       "    </tr>\n",
       "    <tr>\n",
       "      <th>40386</th>\n",
       "      <td>C1000080305620923</td>\n",
       "      <td>871</td>\n",
       "      <td>41</td>\n",
       "      <td>5</td>\n",
       "      <td>8</td>\n",
       "      <td>24</td>\n",
       "      <td>4</td>\n",
       "      <td>8</td>\n",
       "      <td>1</td>\n",
       "      <td>7</td>\n",
       "      <td>6</td>\n",
       "      <td>22994.62</td>\n",
       "    </tr>\n",
       "    <tr>\n",
       "      <th>40387</th>\n",
       "      <td>C1000080509070822</td>\n",
       "      <td>1074</td>\n",
       "      <td>112</td>\n",
       "      <td>1</td>\n",
       "      <td>7</td>\n",
       "      <td>11</td>\n",
       "      <td>4</td>\n",
       "      <td>7</td>\n",
       "      <td>1</td>\n",
       "      <td>2</td>\n",
       "      <td>8</td>\n",
       "      <td>2896.06</td>\n",
       "    </tr>\n",
       "    <tr>\n",
       "      <th>40388</th>\n",
       "      <td>C1000084502460358</td>\n",
       "      <td>767</td>\n",
       "      <td>209</td>\n",
       "      <td>1</td>\n",
       "      <td>7</td>\n",
       "      <td>11</td>\n",
       "      <td>4</td>\n",
       "      <td>7</td>\n",
       "      <td>1</td>\n",
       "      <td>2</td>\n",
       "      <td>8</td>\n",
       "      <td>10864.98</td>\n",
       "    </tr>\n",
       "    <tr>\n",
       "      <th>40389</th>\n",
       "      <td>C1000085304660363</td>\n",
       "      <td>1128</td>\n",
       "      <td>164</td>\n",
       "      <td>1</td>\n",
       "      <td>15</td>\n",
       "      <td>23</td>\n",
       "      <td>4</td>\n",
       "      <td>15</td>\n",
       "      <td>1</td>\n",
       "      <td>2</td>\n",
       "      <td>8</td>\n",
       "      <td>1340.73</td>\n",
       "    </tr>\n",
       "  </tbody>\n",
       "</table>\n",
       "<p>40390 rows × 12 columns</p>\n",
       "</div>"
      ],
      "text/plain": [
       "      CUSTOMER_NUMBER_BLINDED  ADDRESS_CITY  COUNTY  \\\n",
       "0           C0001004007230617          1138     237   \n",
       "1           C0001004306830869           992     237   \n",
       "2           C0001005009010198           329     209   \n",
       "3           C0001006902500643           665      54   \n",
       "4           C0001007600510372          1138     237   \n",
       "...                       ...           ...     ...   \n",
       "40385       C1000079908000761           760      91   \n",
       "40386       C1000080305620923           871      41   \n",
       "40387       C1000080509070822          1074     112   \n",
       "40388       C1000084502460358           767     209   \n",
       "40389       C1000085304660363          1128     164   \n",
       "\n",
       "       CUSTOMER_ACTIVITY_CLUSTER_DESCRIPTION  \\\n",
       "0                                          6   \n",
       "1                                          6   \n",
       "2                                          1   \n",
       "3                                          5   \n",
       "4                                          1   \n",
       "...                                      ...   \n",
       "40385                                      1   \n",
       "40386                                      5   \n",
       "40387                                      1   \n",
       "40388                                      1   \n",
       "40389                                      1   \n",
       "\n",
       "       CUSTOMER_TRADE_CHANNEL_DESCRIPTION  \\\n",
       "0                                       0   \n",
       "1                                       0   \n",
       "2                                      15   \n",
       "3                                       2   \n",
       "4                                       3   \n",
       "...                                   ...   \n",
       "40385                                   7   \n",
       "40386                                   8   \n",
       "40387                                   7   \n",
       "40388                                   7   \n",
       "40389                                  15   \n",
       "\n",
       "       CUSTOMER_SUB_TRADE_CHANNEL_DESCRIPTION  \\\n",
       "0                                           2   \n",
       "1                                           2   \n",
       "2                                          23   \n",
       "3                                          19   \n",
       "4                                          20   \n",
       "...                                       ...   \n",
       "40385                                      11   \n",
       "40386                                      24   \n",
       "40387                                      11   \n",
       "40388                                      11   \n",
       "40389                                      23   \n",
       "\n",
       "       BUSINESS_TYPE_EXTENSION_DESCRIPTION  \\\n",
       "0                                        9   \n",
       "1                                        9   \n",
       "2                                        4   \n",
       "3                                        4   \n",
       "4                                        4   \n",
       "...                                    ...   \n",
       "40385                                    4   \n",
       "40386                                    4   \n",
       "40387                                    4   \n",
       "40388                                    4   \n",
       "40389                                    4   \n",
       "\n",
       "       CUSTOMER_TRADE_CHANNEL_DESCRIPTION2  MARKET_DESCRIPTION  \\\n",
       "0                                        0                   0   \n",
       "1                                        0                   0   \n",
       "2                                       15                   1   \n",
       "3                                        2                   1   \n",
       "4                                        3                   1   \n",
       "...                                    ...                 ...   \n",
       "40385                                    7                   1   \n",
       "40386                                    8                   1   \n",
       "40387                                    7                   1   \n",
       "40388                                    7                   1   \n",
       "40389                                   15                   1   \n",
       "\n",
       "       COLD_DRINK_CHANNEL_DESCRIPTION  STATE   REVENUE  \n",
       "0                                   8      5      0.00  \n",
       "1                                   8      5      0.00  \n",
       "2                                   2      8    932.52  \n",
       "3                                   7      6   6478.18  \n",
       "4                                   2      5   2739.92  \n",
       "...                               ...    ...       ...  \n",
       "40385                               2      7   2548.34  \n",
       "40386                               7      6  22994.62  \n",
       "40387                               2      8   2896.06  \n",
       "40388                               2      8  10864.98  \n",
       "40389                               2      8   1340.73  \n",
       "\n",
       "[40390 rows x 12 columns]"
      ]
     },
     "execution_count": 52,
     "metadata": {},
     "output_type": "execute_result"
    }
   ],
   "source": [
    "cust_final_subset_v1"
   ]
  },
  {
   "cell_type": "markdown",
   "id": "74e912f6",
   "metadata": {},
   "source": [
    "## Train test split"
   ]
  },
  {
   "cell_type": "code",
   "execution_count": 53,
   "id": "59a3ca76",
   "metadata": {},
   "outputs": [],
   "source": [
    "from sklearn.model_selection import train_test_split"
   ]
  },
  {
   "cell_type": "code",
   "execution_count": 54,
   "id": "a60bd7d7",
   "metadata": {},
   "outputs": [],
   "source": [
    "cust_final_subset_v1.reset_index(drop=True, inplace=True)"
   ]
  },
  {
   "cell_type": "code",
   "execution_count": 55,
   "id": "aec1a3ae",
   "metadata": {},
   "outputs": [],
   "source": [
    "X = cust_final_subset_v1.drop([\"CUSTOMER_NUMBER_BLINDED\",\"REVENUE\"], axis=1)"
   ]
  },
  {
   "cell_type": "code",
   "execution_count": 56,
   "id": "bba4ebd0",
   "metadata": {},
   "outputs": [],
   "source": [
    "y = cust_final_subset_v1[\"REVENUE\"]"
   ]
  },
  {
   "cell_type": "code",
   "execution_count": 57,
   "id": "8d775973",
   "metadata": {},
   "outputs": [
    {
     "data": {
      "text/plain": [
       "0"
      ]
     },
     "execution_count": 57,
     "metadata": {},
     "output_type": "execute_result"
    }
   ],
   "source": [
    "y.isna().sum()"
   ]
  },
  {
   "cell_type": "code",
   "execution_count": 58,
   "id": "ef040b6a",
   "metadata": {},
   "outputs": [
    {
     "data": {
      "text/plain": [
       "ADDRESS_CITY                              1361\n",
       "COUNTY                                     247\n",
       "CUSTOMER_ACTIVITY_CLUSTER_DESCRIPTION        8\n",
       "CUSTOMER_TRADE_CHANNEL_DESCRIPTION          25\n",
       "CUSTOMER_SUB_TRADE_CHANNEL_DESCRIPTION      48\n",
       "BUSINESS_TYPE_EXTENSION_DESCRIPTION         12\n",
       "CUSTOMER_TRADE_CHANNEL_DESCRIPTION2         25\n",
       "MARKET_DESCRIPTION                           3\n",
       "COLD_DRINK_CHANNEL_DESCRIPTION               9\n",
       "STATE                                       10\n",
       "dtype: int64"
      ]
     },
     "execution_count": 58,
     "metadata": {},
     "output_type": "execute_result"
    }
   ],
   "source": [
    "X.max()"
   ]
  },
  {
   "cell_type": "code",
   "execution_count": 59,
   "id": "3e7d99c1",
   "metadata": {},
   "outputs": [],
   "source": [
    "X = X.fillna(5000)"
   ]
  },
  {
   "cell_type": "code",
   "execution_count": 60,
   "id": "58dff2d5",
   "metadata": {},
   "outputs": [],
   "source": [
    "X_train, X_test, y_train, y_test = train_test_split(X, y, test_size=0.25, random_state=42)"
   ]
  },
  {
   "cell_type": "markdown",
   "id": "c6bda232",
   "metadata": {},
   "source": [
    "## Model building"
   ]
  },
  {
   "cell_type": "code",
   "execution_count": 61,
   "id": "d7a611b6",
   "metadata": {},
   "outputs": [
    {
     "data": {
      "text/plain": [
       "DecisionTreeRegressor(random_state=0)"
      ]
     },
     "execution_count": 61,
     "metadata": {},
     "output_type": "execute_result"
    }
   ],
   "source": [
    "from sklearn.tree import DecisionTreeRegressor \n",
    "  \n",
    "# create a regressor object\n",
    "regressor = DecisionTreeRegressor(random_state = 0) \n",
    "  \n",
    "# fit the regressor with X and Y data\n",
    "regressor.fit(X_train, y_train)"
   ]
  },
  {
   "cell_type": "markdown",
   "id": "d29b3335",
   "metadata": {},
   "source": [
    "### Testing"
   ]
  },
  {
   "cell_type": "code",
   "execution_count": 62,
   "id": "ab548239",
   "metadata": {},
   "outputs": [],
   "source": [
    "y_pred = regressor.predict(X_test)"
   ]
  },
  {
   "cell_type": "code",
   "execution_count": 63,
   "id": "aa667340",
   "metadata": {},
   "outputs": [],
   "source": [
    "y_pred = y_pred.T"
   ]
  },
  {
   "cell_type": "code",
   "execution_count": 64,
   "id": "f9c5b734",
   "metadata": {},
   "outputs": [
    {
     "data": {
      "text/plain": [
       "array([20923.9825    ,     0.        ,     0.        , ...,\n",
       "           0.        ,  5447.26666667, 22054.14      ])"
      ]
     },
     "execution_count": 64,
     "metadata": {},
     "output_type": "execute_result"
    }
   ],
   "source": [
    "y_pred"
   ]
  },
  {
   "cell_type": "code",
   "execution_count": 65,
   "id": "1f6b1dda",
   "metadata": {},
   "outputs": [
    {
     "data": {
      "text/plain": [
       "33116     7318.73\n",
       "6049         0.00\n",
       "17224        0.00\n",
       "23972    13048.14\n",
       "15672     3585.66\n",
       "           ...   \n",
       "35831    28729.19\n",
       "17795     1899.04\n",
       "18628        0.00\n",
       "18579     3627.48\n",
       "841       2319.50\n",
       "Name: REVENUE, Length: 10098, dtype: float64"
      ]
     },
     "execution_count": 65,
     "metadata": {},
     "output_type": "execute_result"
    }
   ],
   "source": [
    "y_test"
   ]
  },
  {
   "cell_type": "code",
   "execution_count": 66,
   "id": "e163cbea",
   "metadata": {},
   "outputs": [
    {
     "data": {
      "text/plain": [
       "-0.06852088813643209"
      ]
     },
     "execution_count": 66,
     "metadata": {},
     "output_type": "execute_result"
    }
   ],
   "source": [
    "regressor.score(X_test, y_test)"
   ]
  },
  {
   "cell_type": "code",
   "execution_count": 67,
   "id": "01f2e31a",
   "metadata": {},
   "outputs": [],
   "source": [
    "final_pred = pd.DataFrame([y_pred,y_test])"
   ]
  },
  {
   "cell_type": "code",
   "execution_count": 68,
   "id": "8d2c6db2",
   "metadata": {},
   "outputs": [],
   "source": [
    "final_pred = final_pred.T"
   ]
  },
  {
   "cell_type": "code",
   "execution_count": 69,
   "id": "e3ec42e7",
   "metadata": {},
   "outputs": [],
   "source": [
    "final_pred.rename(columns={0:\"predicted_value\", 1:\"actual_value\"}, inplace = True)"
   ]
  },
  {
   "cell_type": "code",
   "execution_count": 70,
   "id": "72e2de42",
   "metadata": {},
   "outputs": [
    {
     "data": {
      "text/html": [
       "<div>\n",
       "<style scoped>\n",
       "    .dataframe tbody tr th:only-of-type {\n",
       "        vertical-align: middle;\n",
       "    }\n",
       "\n",
       "    .dataframe tbody tr th {\n",
       "        vertical-align: top;\n",
       "    }\n",
       "\n",
       "    .dataframe thead th {\n",
       "        text-align: right;\n",
       "    }\n",
       "</style>\n",
       "<table border=\"1\" class=\"dataframe\">\n",
       "  <thead>\n",
       "    <tr style=\"text-align: right;\">\n",
       "      <th></th>\n",
       "      <th>predicted_value</th>\n",
       "      <th>actual_value</th>\n",
       "    </tr>\n",
       "  </thead>\n",
       "  <tbody>\n",
       "    <tr>\n",
       "      <th>0</th>\n",
       "      <td>20923.982500</td>\n",
       "      <td>7318.73</td>\n",
       "    </tr>\n",
       "    <tr>\n",
       "      <th>1</th>\n",
       "      <td>0.000000</td>\n",
       "      <td>0.00</td>\n",
       "    </tr>\n",
       "    <tr>\n",
       "      <th>2</th>\n",
       "      <td>0.000000</td>\n",
       "      <td>0.00</td>\n",
       "    </tr>\n",
       "    <tr>\n",
       "      <th>3</th>\n",
       "      <td>9689.645714</td>\n",
       "      <td>13048.14</td>\n",
       "    </tr>\n",
       "    <tr>\n",
       "      <th>4</th>\n",
       "      <td>3750.560000</td>\n",
       "      <td>3585.66</td>\n",
       "    </tr>\n",
       "    <tr>\n",
       "      <th>...</th>\n",
       "      <td>...</td>\n",
       "      <td>...</td>\n",
       "    </tr>\n",
       "    <tr>\n",
       "      <th>10093</th>\n",
       "      <td>12269.364000</td>\n",
       "      <td>28729.19</td>\n",
       "    </tr>\n",
       "    <tr>\n",
       "      <th>10094</th>\n",
       "      <td>13517.856667</td>\n",
       "      <td>1899.04</td>\n",
       "    </tr>\n",
       "    <tr>\n",
       "      <th>10095</th>\n",
       "      <td>0.000000</td>\n",
       "      <td>0.00</td>\n",
       "    </tr>\n",
       "    <tr>\n",
       "      <th>10096</th>\n",
       "      <td>5447.266667</td>\n",
       "      <td>3627.48</td>\n",
       "    </tr>\n",
       "    <tr>\n",
       "      <th>10097</th>\n",
       "      <td>22054.140000</td>\n",
       "      <td>2319.50</td>\n",
       "    </tr>\n",
       "  </tbody>\n",
       "</table>\n",
       "<p>10098 rows × 2 columns</p>\n",
       "</div>"
      ],
      "text/plain": [
       "       predicted_value  actual_value\n",
       "0         20923.982500       7318.73\n",
       "1             0.000000          0.00\n",
       "2             0.000000          0.00\n",
       "3          9689.645714      13048.14\n",
       "4          3750.560000       3585.66\n",
       "...                ...           ...\n",
       "10093     12269.364000      28729.19\n",
       "10094     13517.856667       1899.04\n",
       "10095         0.000000          0.00\n",
       "10096      5447.266667       3627.48\n",
       "10097     22054.140000       2319.50\n",
       "\n",
       "[10098 rows x 2 columns]"
      ]
     },
     "execution_count": 70,
     "metadata": {},
     "output_type": "execute_result"
    }
   ],
   "source": [
    "final_pred"
   ]
  },
  {
   "cell_type": "code",
   "execution_count": 71,
   "id": "8cd0a50f",
   "metadata": {},
   "outputs": [
    {
     "name": "stdout",
     "output_type": "stream",
     "text": [
      "MAE 22141.425271756834\n"
     ]
    }
   ],
   "source": [
    "from sklearn.metrics import mean_absolute_error, mean_squared_error\n",
    "mae = mean_absolute_error(final_pred[\"predicted_value\"], final_pred[\"actual_value\"])\n",
    "\n",
    "print('MAE', mae)"
   ]
  },
  {
   "cell_type": "markdown",
   "id": "154dbbf7",
   "metadata": {},
   "source": [
    "### Modeling Process - Fine Tuning :\n",
    ">I tried altering the min_leaf_nodes  and max_depth of the tree. The tweaks to hyperparameters resulted in a better MAE with a max_depth of the tree when taken as 10 "
   ]
  },
  {
   "cell_type": "code",
   "execution_count": 72,
   "id": "2195814d",
   "metadata": {},
   "outputs": [
    {
     "data": {
      "text/plain": [
       "DecisionTreeRegressor(max_depth=10, random_state=0)"
      ]
     },
     "execution_count": 72,
     "metadata": {},
     "output_type": "execute_result"
    }
   ],
   "source": [
    "from sklearn.tree import DecisionTreeRegressor \n",
    "  \n",
    "# create a regressor object\n",
    "regressorTwo = DecisionTreeRegressor(random_state = 0, max_depth=10) \n",
    "  \n",
    "# fit the regressor with X and Y data\n",
    "regressorTwo.fit(X_train, y_train)"
   ]
  },
  {
   "cell_type": "code",
   "execution_count": 73,
   "id": "7fbcbe7d",
   "metadata": {},
   "outputs": [],
   "source": [
    "y_predTwo = regressorTwo.predict(X_test)\n",
    "y_predTwo = y_predTwo.T"
   ]
  },
  {
   "cell_type": "code",
   "execution_count": 74,
   "id": "783e0e4d",
   "metadata": {},
   "outputs": [
    {
     "name": "stdout",
     "output_type": "stream",
     "text": [
      "MAE 20894.931422918577\n"
     ]
    }
   ],
   "source": [
    "final_predTwo = pd.DataFrame([y_predTwo,y_test])\n",
    "final_predTwo = final_predTwo.T\n",
    "final_predTwo.rename(columns={0:\"predicted_value\", 1:\"actual_value\"}, inplace = True)\n",
    "maeTwo = mean_absolute_error(final_predTwo[\"predicted_value\"], final_predTwo[\"actual_value\"])\n",
    "\n",
    "print('MAE', maeTwo)\n"
   ]
  },
  {
   "cell_type": "code",
   "execution_count": 75,
   "id": "e272b1f5",
   "metadata": {},
   "outputs": [
    {
     "data": {
      "text/html": [
       "<div>\n",
       "<style scoped>\n",
       "    .dataframe tbody tr th:only-of-type {\n",
       "        vertical-align: middle;\n",
       "    }\n",
       "\n",
       "    .dataframe tbody tr th {\n",
       "        vertical-align: top;\n",
       "    }\n",
       "\n",
       "    .dataframe thead th {\n",
       "        text-align: right;\n",
       "    }\n",
       "</style>\n",
       "<table border=\"1\" class=\"dataframe\">\n",
       "  <thead>\n",
       "    <tr style=\"text-align: right;\">\n",
       "      <th></th>\n",
       "      <th>predicted_value</th>\n",
       "      <th>actual_value</th>\n",
       "    </tr>\n",
       "  </thead>\n",
       "  <tbody>\n",
       "    <tr>\n",
       "      <th>0</th>\n",
       "      <td>14003.140871</td>\n",
       "      <td>7318.73</td>\n",
       "    </tr>\n",
       "    <tr>\n",
       "      <th>1</th>\n",
       "      <td>9133.256810</td>\n",
       "      <td>0.00</td>\n",
       "    </tr>\n",
       "    <tr>\n",
       "      <th>2</th>\n",
       "      <td>27.877741</td>\n",
       "      <td>0.00</td>\n",
       "    </tr>\n",
       "    <tr>\n",
       "      <th>3</th>\n",
       "      <td>11366.782607</td>\n",
       "      <td>13048.14</td>\n",
       "    </tr>\n",
       "    <tr>\n",
       "      <th>4</th>\n",
       "      <td>5446.246370</td>\n",
       "      <td>3585.66</td>\n",
       "    </tr>\n",
       "    <tr>\n",
       "      <th>...</th>\n",
       "      <td>...</td>\n",
       "      <td>...</td>\n",
       "    </tr>\n",
       "    <tr>\n",
       "      <th>10093</th>\n",
       "      <td>48086.999162</td>\n",
       "      <td>28729.19</td>\n",
       "    </tr>\n",
       "    <tr>\n",
       "      <th>10094</th>\n",
       "      <td>11366.782607</td>\n",
       "      <td>1899.04</td>\n",
       "    </tr>\n",
       "    <tr>\n",
       "      <th>10095</th>\n",
       "      <td>596.780667</td>\n",
       "      <td>0.00</td>\n",
       "    </tr>\n",
       "    <tr>\n",
       "      <th>10096</th>\n",
       "      <td>5446.246370</td>\n",
       "      <td>3627.48</td>\n",
       "    </tr>\n",
       "    <tr>\n",
       "      <th>10097</th>\n",
       "      <td>11366.782607</td>\n",
       "      <td>2319.50</td>\n",
       "    </tr>\n",
       "  </tbody>\n",
       "</table>\n",
       "<p>10098 rows × 2 columns</p>\n",
       "</div>"
      ],
      "text/plain": [
       "       predicted_value  actual_value\n",
       "0         14003.140871       7318.73\n",
       "1          9133.256810          0.00\n",
       "2            27.877741          0.00\n",
       "3         11366.782607      13048.14\n",
       "4          5446.246370       3585.66\n",
       "...                ...           ...\n",
       "10093     48086.999162      28729.19\n",
       "10094     11366.782607       1899.04\n",
       "10095       596.780667          0.00\n",
       "10096      5446.246370       3627.48\n",
       "10097     11366.782607       2319.50\n",
       "\n",
       "[10098 rows x 2 columns]"
      ]
     },
     "execution_count": 75,
     "metadata": {},
     "output_type": "execute_result"
    }
   ],
   "source": [
    "final_predTwo"
   ]
  },
  {
   "cell_type": "markdown",
   "id": "6950877b",
   "metadata": {},
   "source": [
    "#### Modeling Process - Model Performance :\n",
    ">The decision tree regressor is really fast as the data isn't a large chunk. Model is performing really fast on a 16GB machine and won't take more than a couple of minutes.\n",
    "\n",
    "### Modeling Process - Model Performance :\n",
    ">I created a data frame of the results. In the above cell where it says final_pred, we can see some of the actual values and some of the predicted values. For some cases, it was pretty close and for some it was too far.  Because there is a dearth of demographic and transactional data, the MAE was around 25k on average. "
   ]
  }
 ],
 "metadata": {
  "celltoolbar": "Raw Cell Format",
  "kernelspec": {
   "display_name": "Python 3 (ipykernel)",
   "language": "python",
   "name": "python3"
  },
  "language_info": {
   "codemirror_mode": {
    "name": "ipython",
    "version": 3
   },
   "file_extension": ".py",
   "mimetype": "text/x-python",
   "name": "python",
   "nbconvert_exporter": "python",
   "pygments_lexer": "ipython3",
   "version": "3.9.7"
  }
 },
 "nbformat": 4,
 "nbformat_minor": 5
}
